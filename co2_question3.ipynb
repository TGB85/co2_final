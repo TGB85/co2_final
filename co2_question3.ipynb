{
  "cells": [
    {
      "cell_type": "markdown",
      "metadata": {
        "id": "view-in-github",
        "colab_type": "text"
      },
      "source": [
        "<a href=\"https://colab.research.google.com/github/TGB85/co2_final_assignment/blob/main/co2_question3.ipynb\" target=\"_parent\"><img src=\"https://colab.research.google.com/assets/colab-badge.svg\" alt=\"Open In Colab\"/></a>"
      ]
    },
    {
      "cell_type": "markdown",
      "metadata": {
        "id": "IW8Wl3VMLm6Y"
      },
      "source": [
        "# Which non-fossil fuel energy technology will have the best price in the future?"
      ]
    },
    {
      "cell_type": "code",
      "execution_count": null,
      "metadata": {
        "id": "fvZVLe-9If9Q"
      },
      "outputs": [],
      "source": [
        "import os\n",
        "import pandas as pd\n",
        "import numpy as np\n",
        "from matplotlib import pyplot as plt\n",
        "import statsmodels.api as sm \n",
        "from scipy import stats\n",
        "from scipy.optimize import curve_fit\n",
        "import seaborn as sns"
      ]
    },
    {
      "cell_type": "code",
      "execution_count": null,
      "metadata": {
        "id": "p_GmFHs4vrIO"
      },
      "outputs": [],
      "source": [
        "# path = '/content/drive/MyDrive/Colab Notebooks/co2_emissions/renewable'\n",
        "path = './renewable'"
      ]
    },
    {
      "cell_type": "markdown",
      "metadata": {
        "id": "g8G3MAl7Odnh"
      },
      "source": [
        "## Cost of energy\n",
        "Levelized cost of energy (LCOE) estimates the average cost per unit of energy generated across the lifetime of a new power plant. It is measured in 2019 US$ per kilowatt-hour.\n",
        "Source: [Our World in Data](https://ourworldindata.org/grapher/levelized-cost-of-energy?country=~OWID_WRL)  \n",
        "Categories: CSP, Hydro, Solar, Onshore wind, Bioenergy, Geothermal, Offshore wind.  \n",
        "*CSP* stands for Concentrated Solar Power which [differs](https://www.solarfeeds.com/mag/csp-and-pv-differences-comparison/) from *solar*, referring to Solar Photovoltaic (aka solar pannels). "
      ]
    },
    {
      "cell_type": "code",
      "execution_count": null,
      "metadata": {
        "id": "f2atWc1DLyzx"
      },
      "outputs": [],
      "source": [
        "cost = pd.read_csv(os.path.join(path, 'cost.csv'))"
      ]
    },
    {
      "cell_type": "code",
      "execution_count": null,
      "metadata": {
        "colab": {
          "base_uri": "https://localhost:8080/"
        },
        "id": "ej2VYCfDMBoS",
        "outputId": "20fb03f8-0ad1-455f-d677-fb612e27ea5a"
      },
      "outputs": [
        {
          "data": {
            "text/plain": [
              "Index(['Entity', 'Code', 'Year', 'CSP LCOE (2019 USD/kWh)',\n",
              "       'Hydro LCOE (2019 USD/kWh)', 'Solar LCOE (2019 USD/kWh)',\n",
              "       'Onshore wind LCOE (2019 USD/kWh)', 'Bioenergy LCOE (2019 USD/kWh)',\n",
              "       'Geothermal LCOE (2019 USD/kWh)', 'Offshore wind LCOE (2019 USD/kWh)'],\n",
              "      dtype='object')"
            ]
          },
          "execution_count": 4,
          "metadata": {},
          "output_type": "execute_result"
        }
      ],
      "source": [
        "cost.columns"
      ]
    },
    {
      "cell_type": "code",
      "execution_count": null,
      "metadata": {
        "id": "DaOdp1X7MqLh"
      },
      "outputs": [],
      "source": [
        "cost.columns = ['country', 'code', 'year', 'csp', 'hydro', 'solar', 'onshore', 'bio', 'geothermal', 'offshore']"
      ]
    },
    {
      "cell_type": "code",
      "execution_count": null,
      "metadata": {
        "colab": {
          "base_uri": "https://localhost:8080/"
        },
        "id": "Q1OJI_bUMqZT",
        "outputId": "d19b9d3e-e404-4b4a-a237-30470490a2bc"
      },
      "outputs": [
        {
          "data": {
            "text/plain": [
              "country        0.000000\n",
              "code           0.000000\n",
              "year           0.000000\n",
              "csp           97.578692\n",
              "hydro         97.578692\n",
              "solar         76.271186\n",
              "onshore        0.000000\n",
              "bio           97.578692\n",
              "geothermal    97.094431\n",
              "offshore      95.157385\n",
              "dtype: float64"
            ]
          },
          "execution_count": 6,
          "metadata": {},
          "output_type": "execute_result"
        }
      ],
      "source": [
        "cost.isnull().mean()*100"
      ]
    },
    {
      "cell_type": "code",
      "execution_count": null,
      "metadata": {
        "colab": {
          "base_uri": "https://localhost:8080/",
          "height": 300
        },
        "id": "NhxDy2rYNK6o",
        "outputId": "d4527910-d0b7-47e7-ceac-8ee6060cdfe6"
      },
      "outputs": [
        {
          "data": {
            "text/html": [
              "<div>\n",
              "<style scoped>\n",
              "    .dataframe tbody tr th:only-of-type {\n",
              "        vertical-align: middle;\n",
              "    }\n",
              "\n",
              "    .dataframe tbody tr th {\n",
              "        vertical-align: top;\n",
              "    }\n",
              "\n",
              "    .dataframe thead th {\n",
              "        text-align: right;\n",
              "    }\n",
              "</style>\n",
              "<table border=\"1\" class=\"dataframe\">\n",
              "  <thead>\n",
              "    <tr style=\"text-align: right;\">\n",
              "      <th></th>\n",
              "      <th>year</th>\n",
              "      <th>csp</th>\n",
              "      <th>hydro</th>\n",
              "      <th>solar</th>\n",
              "      <th>onshore</th>\n",
              "      <th>bio</th>\n",
              "      <th>geothermal</th>\n",
              "      <th>offshore</th>\n",
              "    </tr>\n",
              "  </thead>\n",
              "  <tbody>\n",
              "    <tr>\n",
              "      <th>count</th>\n",
              "      <td>413.000000</td>\n",
              "      <td>10.000000</td>\n",
              "      <td>10.000000</td>\n",
              "      <td>98.000000</td>\n",
              "      <td>413.000000</td>\n",
              "      <td>10.000000</td>\n",
              "      <td>12.000000</td>\n",
              "      <td>20.000000</td>\n",
              "    </tr>\n",
              "    <tr>\n",
              "      <th>mean</th>\n",
              "      <td>2005.036320</td>\n",
              "      <td>0.271950</td>\n",
              "      <td>0.043537</td>\n",
              "      <td>0.174236</td>\n",
              "      <td>0.121397</td>\n",
              "      <td>0.069490</td>\n",
              "      <td>0.064043</td>\n",
              "      <td>0.143000</td>\n",
              "    </tr>\n",
              "    <tr>\n",
              "      <th>std</th>\n",
              "      <td>9.356538</td>\n",
              "      <td>0.062824</td>\n",
              "      <td>0.006509</td>\n",
              "      <td>0.099828</td>\n",
              "      <td>0.053497</td>\n",
              "      <td>0.009507</td>\n",
              "      <td>0.012373</td>\n",
              "      <td>0.027874</td>\n",
              "    </tr>\n",
              "    <tr>\n",
              "      <th>min</th>\n",
              "      <td>1983.000000</td>\n",
              "      <td>0.182300</td>\n",
              "      <td>0.035594</td>\n",
              "      <td>0.044700</td>\n",
              "      <td>0.043000</td>\n",
              "      <td>0.055425</td>\n",
              "      <td>0.042653</td>\n",
              "      <td>0.103000</td>\n",
              "    </tr>\n",
              "    <tr>\n",
              "      <th>25%</th>\n",
              "      <td>1998.000000</td>\n",
              "      <td>0.245100</td>\n",
              "      <td>0.038068</td>\n",
              "      <td>0.093700</td>\n",
              "      <td>0.081000</td>\n",
              "      <td>0.062064</td>\n",
              "      <td>0.057277</td>\n",
              "      <td>0.119250</td>\n",
              "    </tr>\n",
              "    <tr>\n",
              "      <th>50%</th>\n",
              "      <td>2006.000000</td>\n",
              "      <td>0.260700</td>\n",
              "      <td>0.043429</td>\n",
              "      <td>0.150450</td>\n",
              "      <td>0.108000</td>\n",
              "      <td>0.072182</td>\n",
              "      <td>0.066771</td>\n",
              "      <td>0.140500</td>\n",
              "    </tr>\n",
              "    <tr>\n",
              "      <th>75%</th>\n",
              "      <td>2013.000000</td>\n",
              "      <td>0.332225</td>\n",
              "      <td>0.046594</td>\n",
              "      <td>0.220900</td>\n",
              "      <td>0.154000</td>\n",
              "      <td>0.074955</td>\n",
              "      <td>0.072051</td>\n",
              "      <td>0.170500</td>\n",
              "    </tr>\n",
              "    <tr>\n",
              "      <th>max</th>\n",
              "      <td>2019.000000</td>\n",
              "      <td>0.352500</td>\n",
              "      <td>0.055025</td>\n",
              "      <td>0.473500</td>\n",
              "      <td>0.308000</td>\n",
              "      <td>0.082069</td>\n",
              "      <td>0.084536</td>\n",
              "      <td>0.183000</td>\n",
              "    </tr>\n",
              "  </tbody>\n",
              "</table>\n",
              "</div>"
            ],
            "text/plain": [
              "              year        csp      hydro      solar     onshore        bio  \\\n",
              "count   413.000000  10.000000  10.000000  98.000000  413.000000  10.000000   \n",
              "mean   2005.036320   0.271950   0.043537   0.174236    0.121397   0.069490   \n",
              "std       9.356538   0.062824   0.006509   0.099828    0.053497   0.009507   \n",
              "min    1983.000000   0.182300   0.035594   0.044700    0.043000   0.055425   \n",
              "25%    1998.000000   0.245100   0.038068   0.093700    0.081000   0.062064   \n",
              "50%    2006.000000   0.260700   0.043429   0.150450    0.108000   0.072182   \n",
              "75%    2013.000000   0.332225   0.046594   0.220900    0.154000   0.074955   \n",
              "max    2019.000000   0.352500   0.055025   0.473500    0.308000   0.082069   \n",
              "\n",
              "       geothermal   offshore  \n",
              "count   12.000000  20.000000  \n",
              "mean     0.064043   0.143000  \n",
              "std      0.012373   0.027874  \n",
              "min      0.042653   0.103000  \n",
              "25%      0.057277   0.119250  \n",
              "50%      0.066771   0.140500  \n",
              "75%      0.072051   0.170500  \n",
              "max      0.084536   0.183000  "
            ]
          },
          "execution_count": 7,
          "metadata": {},
          "output_type": "execute_result"
        }
      ],
      "source": [
        "cost.describe()"
      ]
    },
    {
      "cell_type": "code",
      "execution_count": null,
      "metadata": {
        "id": "Y_Iyy4zqTShF"
      },
      "outputs": [],
      "source": [
        "cost.loc[~cost['csp'].isnull(), ['country', 'year', 'csp']] # csp, hydro, bio = 'World', 2010-2019\n",
        "cost[~cost['solar'].isnull()].country.value_counts() # solar = 'World' + 10 countries, 2009-2019\n",
        "cost[~cost['offshore'].isnull()].year.value_counts() # offshore = 'World', 2000-2019\n",
        "cost[~cost['geothermal'].isnull()].year.value_counts() # geothermal = 'World', 2007-2019\n",
        "cost[~cost['onshore'].isnull()].country.value_counts() # onshore = 'World' + 15 countries, 1983-2019, 37 values for World\n",
        "# only keep values for World\n",
        "cost.drop(cost.loc[cost['country'] != 'World'].index, inplace=True)\n",
        "cost.drop(columns=['code'], inplace=True)"
      ]
    },
    {
      "cell_type": "code",
      "execution_count": null,
      "metadata": {
        "colab": {
          "base_uri": "https://localhost:8080/"
        },
        "id": "cnPExoc8WCFR",
        "outputId": "47b21802-17b5-4a75-b35e-669f75c916e0"
      },
      "outputs": [
        {
          "name": "stdout",
          "output_type": "stream",
          "text": [
            "<class 'pandas.core.frame.DataFrame'>\n",
            "Int64Index: 37 entries, 376 to 412\n",
            "Data columns (total 9 columns):\n",
            " #   Column      Non-Null Count  Dtype  \n",
            "---  ------      --------------  -----  \n",
            " 0   country     37 non-null     object \n",
            " 1   year        37 non-null     int64  \n",
            " 2   csp         10 non-null     float64\n",
            " 3   hydro       10 non-null     float64\n",
            " 4   solar       10 non-null     float64\n",
            " 5   onshore     37 non-null     float64\n",
            " 6   bio         10 non-null     float64\n",
            " 7   geothermal  12 non-null     float64\n",
            " 8   offshore    20 non-null     float64\n",
            "dtypes: float64(7), int64(1), object(1)\n",
            "memory usage: 2.9+ KB\n"
          ]
        }
      ],
      "source": [
        "cost.info()"
      ]
    },
    {
      "cell_type": "markdown",
      "metadata": {
        "id": "ZCwrtK3IP_XW"
      },
      "source": [
        "## Trend per energy source\n",
        "[Statsmodels HP filter](https://www.statsmodels.org/dev/generated/statsmodels.tsa.filters.hp_filter.hpfilter.html)\n",
        "> Downward trends: Solar pv, CSP, Onshore wind, Offshore wind & Bioenergy"
      ]
    },
    {
      "cell_type": "markdown",
      "metadata": {
        "id": "70mvRpzEAmx6"
      },
      "source": [
        "### Wind"
      ]
    },
    {
      "cell_type": "code",
      "execution_count": null,
      "metadata": {
        "id": "k9MCPHga8_v4"
      },
      "outputs": [],
      "source": [
        "def trend_per_source(df, source):\n",
        "  selection = df.loc[~df[source].isnull(), ['year', source]].sort_values(by='year').set_index('year')\n",
        "  cycle, trend = sm.tsa.filters.hpfilter(selection[source], 6.25)\n",
        "  selection[f'{source}_trend'] = trend\n",
        "  return selection"
      ]
    },
    {
      "cell_type": "code",
      "execution_count": null,
      "metadata": {
        "colab": {
          "base_uri": "https://localhost:8080/"
        },
        "id": "MlKGSBIuC23k",
        "outputId": "6d43709e-4df1-4393-a856-8bee83cbe3bb"
      },
      "outputs": [
        {
          "data": {
            "image/png": "[encoded data removed]",
            "text/plain": [
              "<Figure size 432x288 with 1 Axes>"
            ]
          },
          "metadata": {
            "needs_background": "light"
          },
          "output_type": "display_data"
        }
      ],
      "source": [
        "onshore = trend_per_source(cost, 'onshore') \n",
        "\n",
        "fig, ax = plt.subplots()\n",
        "ax.plot(onshore.index, onshore.onshore)\n",
        "ax.plot(onshore.index, onshore.onshore_trend)\n",
        "ax.set(ylabel='Cost per unit of energy', title='Trend in price of energy from wind (onshore)')\n",
        "ax.set_ylim(0, 0.4)\n",
        "# fig.savefig('onshore_trend.jpg')\n",
        "plt.show()"
      ]
    },
    {
      "cell_type": "code",
      "execution_count": null,
      "metadata": {
        "colab": {
          "base_uri": "https://localhost:8080/"
        },
        "id": "R76eU_tMDR4M",
        "outputId": "c15062e5-d65f-4c7d-a09c-7f9bd1f50da6"
      },
      "outputs": [
        {
          "data": {
            "image/png": "[encoded data removed]",
            "text/plain": [
              "<Figure size 432x288 with 1 Axes>"
            ]
          },
          "metadata": {
            "needs_background": "light"
          },
          "output_type": "display_data"
        }
      ],
      "source": [
        "offshore = trend_per_source(cost, 'offshore')\n",
        "fig, ax = plt.subplots()\n",
        "ax.plot(offshore.index, offshore.offshore)\n",
        "ax.plot(offshore.index, offshore.offshore_trend)\n",
        "ax.set(ylabel='Cost per unit of energy', title='Trend in price of energy from wind (offshore)')\n",
        "ax.set_xticks(np.arange(2000, 2021, 2))\n",
        "ax.set_ylim(0, 0.4)\n",
        "# fig.savefig('offshore_trend.jpg')\n",
        "plt.show()"
      ]
    },
    {
      "cell_type": "markdown",
      "metadata": {
        "id": "zeXR8tu9ECnY"
      },
      "source": [
        "### Solar"
      ]
    },
    {
      "cell_type": "code",
      "execution_count": null,
      "metadata": {
        "colab": {
          "base_uri": "https://localhost:8080/"
        },
        "id": "ANW6pKLI-mVs",
        "outputId": "8432bfb4-eeb5-4e9d-f547-f6b3dc9cff16"
      },
      "outputs": [
        {
          "data": {
            "image/png": "[encoded data removed]",
            "text/plain": [
              "<Figure size 432x288 with 1 Axes>"
            ]
          },
          "metadata": {
            "needs_background": "light"
          },
          "output_type": "display_data"
        }
      ],
      "source": [
        "# solar pv\n",
        "solar = trend_per_source(cost, 'solar')\n",
        "fig, ax = plt.subplots()\n",
        "ax.plot(solar.index, solar.solar)\n",
        "ax.plot(solar.index, solar.solar_trend)\n",
        "ax.set(ylabel='Cost per unit of energy', title='Trend in price of energy from solar pv')\n",
        "ax.set_xticks(np.arange(2010, 2021, 2))\n",
        "ax.set_ylim(0, 0.4)\n",
        "# fig.savefig('solar_trend.jpg')\n",
        "plt.show()"
      ]
    },
    {
      "cell_type": "code",
      "execution_count": null,
      "metadata": {
        "colab": {
          "base_uri": "https://localhost:8080/"
        },
        "id": "GSLKVkWo9h1J",
        "outputId": "bf864da9-f046-4f54-c0e0-5bba39334d2a"
      },
      "outputs": [
        {
          "data": {
            "image/png": "[encoded data removed]",
            "text/plain": [
              "<Figure size 432x288 with 1 Axes>"
            ]
          },
          "metadata": {
            "needs_background": "light"
          },
          "output_type": "display_data"
        }
      ],
      "source": [
        "# csp\n",
        "csp = trend_per_source(cost, 'csp')\n",
        "fig, ax = plt.subplots()\n",
        "ax.plot(csp.index, csp.csp)\n",
        "ax.plot(csp.index, csp.csp_trend)\n",
        "ax.set(ylabel='Cost per unit of energy', title='Trend in price of energy from CSP')\n",
        "ax.set_xticks(np.arange(2010, 2021, 2))\n",
        "ax.set_ylim(0, 0.4)\n",
        "# fig.savefig('csp_trend.jpg')\n",
        "plt.show()"
      ]
    },
    {
      "cell_type": "markdown",
      "metadata": {
        "id": "80hluPGkFeH8"
      },
      "source": [
        "### Hydropower"
      ]
    },
    {
      "cell_type": "code",
      "execution_count": null,
      "metadata": {
        "colab": {
          "base_uri": "https://localhost:8080/"
        },
        "id": "tra-4U5i-knK",
        "outputId": "8d4d549c-7611-4454-9574-4a8c0a70085c"
      },
      "outputs": [
        {
          "data": {
            "image/png": "[encoded data removed]",
            "text/plain": [
              "<Figure size 432x288 with 1 Axes>"
            ]
          },
          "metadata": {
            "needs_background": "light"
          },
          "output_type": "display_data"
        }
      ],
      "source": [
        "hydro = trend_per_source(cost, 'hydro')\n",
        "fig, ax = plt.subplots()\n",
        "ax.plot(hydro.index, hydro.hydro)\n",
        "ax.plot(hydro.index, hydro.hydro_trend)\n",
        "ax.set(ylabel='Cost per unit of energy', title='Trend in price of energy of hydropower')\n",
        "ax.set_xticks(np.arange(2010, 2021, 2))\n",
        "ax.set_ylim(0, 0.1)\n",
        "# fig.savefig('hydro_trend.jpg')\n",
        "plt.show()"
      ]
    },
    {
      "cell_type": "markdown",
      "metadata": {
        "id": "-_wtz1U5FhWO"
      },
      "source": [
        "### Bio energy"
      ]
    },
    {
      "cell_type": "code",
      "execution_count": null,
      "metadata": {
        "colab": {
          "base_uri": "https://localhost:8080/"
        },
        "id": "aK3pE8UuFkNg",
        "outputId": "dca5b223-7e74-4d29-cbbd-591f3823bc2c"
      },
      "outputs": [
        {
          "data": {
            "image/png": "[encoded data removed]",
            "text/plain": [
              "<Figure size 432x288 with 1 Axes>"
            ]
          },
          "metadata": {
            "needs_background": "light"
          },
          "output_type": "display_data"
        }
      ],
      "source": [
        "bio = trend_per_source(cost, 'bio')\n",
        "fig, ax = plt.subplots()\n",
        "ax.plot(bio.index, bio.bio)\n",
        "ax.plot(bio.index, bio.bio_trend)\n",
        "ax.set(ylabel='Cost per unit of energy', title='Trend in price of bioenergy')\n",
        "ax.set_xticks(np.arange(2010, 2021, 2))\n",
        "ax.set_ylim(0, 0.1)\n",
        "# fig.savefig('bio_trend.jpg')\n",
        "plt.show()"
      ]
    },
    {
      "cell_type": "markdown",
      "metadata": {
        "id": "gtFBhpbgFldN"
      },
      "source": [
        "### Geothermal"
      ]
    },
    {
      "cell_type": "code",
      "execution_count": null,
      "metadata": {
        "colab": {
          "base_uri": "https://localhost:8080/"
        },
        "id": "G47N4eMJFrNQ",
        "outputId": "60da4841-f260-4842-ee45-36376908b7d7"
      },
      "outputs": [
        {
          "data": {
            "text/plain": [
              "(0.0, 0.1)"
            ]
          },
          "execution_count": 17,
          "metadata": {},
          "output_type": "execute_result"
        },
        {
          "data": {
            "image/png": "[encoded data removed]",
            "text/plain": [
              "<Figure size 432x288 with 1 Axes>"
            ]
          },
          "metadata": {
            "needs_background": "light"
          },
          "output_type": "display_data"
        }
      ],
      "source": [
        "geo = trend_per_source(cost, 'geothermal')\n",
        "fig, ax = plt.subplots()\n",
        "ax.plot(geo.index, geo.geothermal)\n",
        "ax.plot(geo.index, geo.geothermal_trend)\n",
        "ax.set_ylim(0, 0.1)"
      ]
    },
    {
      "cell_type": "markdown",
      "metadata": {
        "id": "3tVcoO50j8z4"
      },
      "source": [
        "## Investment\n",
        "Global investment in renewable energy technologies, measured in USD per year. Investment figures exclude large-scale hydropower schemes. Source: [Our World in Data](https://ourworldindata.org/grapher/investment-in-renewable-energy-by-technology?country=~OWID_WRL)  \n",
        "Categories: Marine energy, Geothermal, Hydropower (small), Biofuels ('liquid biofuels'), Biomass ('biomass and waste-to-energy'), Wind, Solar.  "
      ]
    },
    {
      "cell_type": "code",
      "execution_count": null,
      "metadata": {
        "id": "-M5V-MRsYANn"
      },
      "outputs": [],
      "source": [
        "invest = pd.read_csv(os.path.join(path, 'investment.csv'))\n",
        "invest.drop(columns=['Entity', 'Code', 'Marine Energy'], inplace=True)"
      ]
    },
    {
      "cell_type": "code",
      "execution_count": null,
      "metadata": {
        "id": "b97MLK7cY08R"
      },
      "outputs": [],
      "source": [
        "invest.columns = ['year', 'geo_invest', 'hydro_invest', 'biofuel_invest', 'biomass_invest', 'wind_invest', 'solar_invest']"
      ]
    },
    {
      "cell_type": "markdown",
      "metadata": {
        "id": "upNrOWsXMCXL"
      },
      "source": [
        "## Energy consumption\n",
        "Consumption per source (TWh).  Primary energy is shown based on the ‘substitution’ method which takes account of inefficiencies in energyproduction from fossil fuels. [Our World in Data](https://ourworldindata.org/grapher/primary-sub-energy-source)    \n",
        "Categories: Wind (onshore & offshore), Solar, Hydropower, Biofuels, 'Geo biomass and other'"
      ]
    },
    {
      "cell_type": "code",
      "execution_count": null,
      "metadata": {
        "id": "HcRY72H5MDM6"
      },
      "outputs": [],
      "source": [
        "cons = pd.read_csv(os.path.join(path, 'consumption.csv'))\n",
        "cons.drop(cons.loc[cons['Entity'] != 'World'].index, inplace=True)\n",
        "cons.drop(columns=['Entity', 'Code'], inplace=True)"
      ]
    },
    {
      "cell_type": "code",
      "execution_count": null,
      "metadata": {
        "id": "LY38kP5LMdgm"
      },
      "outputs": [],
      "source": [
        "cons.columns = ['year', 'wind_cons', 'hydro_cons', 'solar_cons', 'nuclear', 'bio_cons', 'geo_cons', 'coal', 'oil', 'gas']"
      ]
    },
    {
      "cell_type": "markdown",
      "metadata": {
        "id": "SkFn1-9JQKjS"
      },
      "source": [
        "## Solar Energy"
      ]
    },
    {
      "cell_type": "code",
      "execution_count": null,
      "metadata": {
        "id": "outL03QrOtRT"
      },
      "outputs": [],
      "source": [
        "# solar pv\n",
        "solar = solar.merge(cons[['year', 'solar_cons']], on='year', how='left')\\\n",
        ".merge(invest[['year', 'solar_invest']], on='year', how='left')"
      ]
    },
    {
      "cell_type": "code",
      "execution_count": null,
      "metadata": {
        "id": "wyYlAJ9-VM4Q",
        "outputId": "9e64304c-db84-4183-9c79-65d946fd5f62"
      },
      "outputs": [
        {
          "data": {
            "text/html": [
              "<div>\n",
              "<style scoped>\n",
              "    .dataframe tbody tr th:only-of-type {\n",
              "        vertical-align: middle;\n",
              "    }\n",
              "\n",
              "    .dataframe tbody tr th {\n",
              "        vertical-align: top;\n",
              "    }\n",
              "\n",
              "    .dataframe thead th {\n",
              "        text-align: right;\n",
              "    }\n",
              "</style>\n",
              "<table border=\"1\" class=\"dataframe\">\n",
              "  <thead>\n",
              "    <tr style=\"text-align: right;\">\n",
              "      <th></th>\n",
              "      <th>year</th>\n",
              "      <th>solar</th>\n",
              "      <th>solar_trend</th>\n",
              "      <th>solar_cons</th>\n",
              "      <th>solar_invest</th>\n",
              "    </tr>\n",
              "  </thead>\n",
              "  <tbody>\n",
              "    <tr>\n",
              "      <th>0</th>\n",
              "      <td>2010</td>\n",
              "      <td>0.3783</td>\n",
              "      <td>0.349452</td>\n",
              "      <td>87.795002</td>\n",
              "      <td>1.036000e+11</td>\n",
              "    </tr>\n",
              "    <tr>\n",
              "      <th>1</th>\n",
              "      <td>2011</td>\n",
              "      <td>0.2863</td>\n",
              "      <td>0.291931</td>\n",
              "      <td>168.910351</td>\n",
              "      <td>1.549000e+11</td>\n",
              "    </tr>\n",
              "    <tr>\n",
              "      <th>2</th>\n",
              "      <td>2012</td>\n",
              "      <td>0.2225</td>\n",
              "      <td>0.239026</td>\n",
              "      <td>260.554280</td>\n",
              "      <td>1.406000e+11</td>\n",
              "    </tr>\n",
              "    <tr>\n",
              "      <th>3</th>\n",
              "      <td>2013</td>\n",
              "      <td>0.1751</td>\n",
              "      <td>0.194451</td>\n",
              "      <td>355.711209</td>\n",
              "      <td>1.191000e+11</td>\n",
              "    </tr>\n",
              "    <tr>\n",
              "      <th>4</th>\n",
              "      <td>2014</td>\n",
              "      <td>0.1636</td>\n",
              "      <td>0.159277</td>\n",
              "      <td>503.281559</td>\n",
              "      <td>1.439000e+11</td>\n",
              "    </tr>\n",
              "    <tr>\n",
              "      <th>5</th>\n",
              "      <td>2015</td>\n",
              "      <td>0.1264</td>\n",
              "      <td>0.131479</td>\n",
              "      <td>648.519643</td>\n",
              "      <td>1.717000e+11</td>\n",
              "    </tr>\n",
              "    <tr>\n",
              "      <th>6</th>\n",
              "      <td>2016</td>\n",
              "      <td>0.1139</td>\n",
              "      <td>0.109721</td>\n",
              "      <td>825.820790</td>\n",
              "      <td>1.137000e+11</td>\n",
              "    </tr>\n",
              "    <tr>\n",
              "      <th>7</th>\n",
              "      <td>2017</td>\n",
              "      <td>0.0924</td>\n",
              "      <td>0.091858</td>\n",
              "      <td>1115.135411</td>\n",
              "      <td>NaN</td>\n",
              "    </tr>\n",
              "    <tr>\n",
              "      <th>8</th>\n",
              "      <td>2018</td>\n",
              "      <td>0.0787</td>\n",
              "      <td>0.076412</td>\n",
              "      <td>1433.943159</td>\n",
              "      <td>NaN</td>\n",
              "    </tr>\n",
              "    <tr>\n",
              "      <th>9</th>\n",
              "      <td>2019</td>\n",
              "      <td>0.0684</td>\n",
              "      <td>0.061992</td>\n",
              "      <td>1752.959449</td>\n",
              "      <td>NaN</td>\n",
              "    </tr>\n",
              "  </tbody>\n",
              "</table>\n",
              "</div>"
            ],
            "text/plain": [
              "   year   solar  solar_trend   solar_cons  solar_invest\n",
              "0  2010  0.3783     0.349452    87.795002  1.036000e+11\n",
              "1  2011  0.2863     0.291931   168.910351  1.549000e+11\n",
              "2  2012  0.2225     0.239026   260.554280  1.406000e+11\n",
              "3  2013  0.1751     0.194451   355.711209  1.191000e+11\n",
              "4  2014  0.1636     0.159277   503.281559  1.439000e+11\n",
              "5  2015  0.1264     0.131479   648.519643  1.717000e+11\n",
              "6  2016  0.1139     0.109721   825.820790  1.137000e+11\n",
              "7  2017  0.0924     0.091858  1115.135411           NaN\n",
              "8  2018  0.0787     0.076412  1433.943159           NaN\n",
              "9  2019  0.0684     0.061992  1752.959449           NaN"
            ]
          },
          "execution_count": 23,
          "metadata": {},
          "output_type": "execute_result"
        }
      ],
      "source": [
        "solar"
      ]
    },
    {
      "cell_type": "code",
      "execution_count": null,
      "metadata": {
        "id": "T3zchxwtEIB9",
        "outputId": "d549a2f8-eea2-49a4-ddf7-c8aefd10d38f"
      },
      "outputs": [
        {
          "data": {
            "text/plain": [
              "<matplotlib.collections.PathCollection at 0x1c2c773a370>"
            ]
          },
          "execution_count": 24,
          "metadata": {},
          "output_type": "execute_result"
        },
        {
          "data": {
            "image/png": "[encoded data removed]",
            "text/plain": [
              "<Figure size 432x288 with 1 Axes>"
            ]
          },
          "metadata": {
            "needs_background": "light"
          },
          "output_type": "display_data"
        }
      ],
      "source": [
        "# plt.scatter(solar.solar_cons, solar.solar)\n",
        "plt.scatter(np.log(solar.solar_cons), np.log(solar.solar))"
      ]
    },
    {
      "cell_type": "code",
      "execution_count": null,
      "metadata": {
        "id": "wNL7k-l-Di5X",
        "outputId": "717a35dd-dc46-423f-ea43-f6b2c2f48100"
      },
      "outputs": [
        {
          "data": {
            "text/html": [
              "<div>\n",
              "<style scoped>\n",
              "    .dataframe tbody tr th:only-of-type {\n",
              "        vertical-align: middle;\n",
              "    }\n",
              "\n",
              "    .dataframe tbody tr th {\n",
              "        vertical-align: top;\n",
              "    }\n",
              "\n",
              "    .dataframe thead th {\n",
              "        text-align: right;\n",
              "    }\n",
              "</style>\n",
              "<table border=\"1\" class=\"dataframe\">\n",
              "  <thead>\n",
              "    <tr style=\"text-align: right;\">\n",
              "      <th></th>\n",
              "      <th>year</th>\n",
              "      <th>solar</th>\n",
              "      <th>solar_trend</th>\n",
              "      <th>solar_cons</th>\n",
              "      <th>solar_invest</th>\n",
              "    </tr>\n",
              "  </thead>\n",
              "  <tbody>\n",
              "    <tr>\n",
              "      <th>year</th>\n",
              "      <td>1.000000</td>\n",
              "      <td>-0.941127</td>\n",
              "      <td>-0.970137</td>\n",
              "      <td>0.968654</td>\n",
              "      <td>0.213295</td>\n",
              "    </tr>\n",
              "    <tr>\n",
              "      <th>solar</th>\n",
              "      <td>-0.941127</td>\n",
              "      <td>1.000000</td>\n",
              "      <td>0.991128</td>\n",
              "      <td>-0.840637</td>\n",
              "      <td>-0.330916</td>\n",
              "    </tr>\n",
              "    <tr>\n",
              "      <th>solar_trend</th>\n",
              "      <td>-0.970137</td>\n",
              "      <td>0.991128</td>\n",
              "      <td>1.000000</td>\n",
              "      <td>-0.882579</td>\n",
              "      <td>-0.276933</td>\n",
              "    </tr>\n",
              "    <tr>\n",
              "      <th>solar_cons</th>\n",
              "      <td>0.968654</td>\n",
              "      <td>-0.840637</td>\n",
              "      <td>-0.882579</td>\n",
              "      <td>1.000000</td>\n",
              "      <td>0.156507</td>\n",
              "    </tr>\n",
              "    <tr>\n",
              "      <th>solar_invest</th>\n",
              "      <td>0.213295</td>\n",
              "      <td>-0.330916</td>\n",
              "      <td>-0.276933</td>\n",
              "      <td>0.156507</td>\n",
              "      <td>1.000000</td>\n",
              "    </tr>\n",
              "  </tbody>\n",
              "</table>\n",
              "</div>"
            ],
            "text/plain": [
              "                  year     solar  solar_trend  solar_cons  solar_invest\n",
              "year          1.000000 -0.941127    -0.970137    0.968654      0.213295\n",
              "solar        -0.941127  1.000000     0.991128   -0.840637     -0.330916\n",
              "solar_trend  -0.970137  0.991128     1.000000   -0.882579     -0.276933\n",
              "solar_cons    0.968654 -0.840637    -0.882579    1.000000      0.156507\n",
              "solar_invest  0.213295 -0.330916    -0.276933    0.156507      1.000000"
            ]
          },
          "execution_count": 25,
          "metadata": {},
          "output_type": "execute_result"
        }
      ],
      "source": [
        "solar.corr()"
      ]
    },
    {
      "cell_type": "code",
      "execution_count": null,
      "metadata": {
        "id": "-7swp5cC7hj3",
        "outputId": "e3498645-0d82-4620-a7e6-de232111a3da"
      },
      "outputs": [
        {
          "data": {
            "text/plain": [
              "array([-0.1012982 ,  0.80071074])"
            ]
          },
          "execution_count": 26,
          "metadata": {},
          "output_type": "execute_result"
        },
        {
          "data": {
            "image/png": "[encoded data removed]",
            "text/plain": [
              "<Figure size 432x288 with 1 Axes>"
            ]
          },
          "metadata": {
            "needs_background": "light"
          },
          "output_type": "display_data"
        }
      ],
      "source": [
        "def func(x, a, c): \n",
        "    return a * np.log(x) + c # array([-0.1012982 ,  0.80071074])\n",
        "\n",
        "x = solar.solar_cons\n",
        "y = solar.solar\n",
        "\n",
        "popt, pcov = curve_fit(func, x, y)\n",
        "fig, ax = plt.subplots()\n",
        "plt.plot(x, func(x, *popt))\n",
        "plt.plot(x, y)\n",
        "ax.set(ylabel='Cost per unit of energy', xlabel='Consumption of solar energy (TWh)', title='Price for solar energy, compared to consumption')\n",
        "ax.set_ylim(0, 0.4)\n",
        "fig.savefig('solar_consumption.jpg')\n",
        "popt"
      ]
    },
    {
      "cell_type": "code",
      "execution_count": null,
      "metadata": {
        "id": "KtlJYGc_Ybhh",
        "outputId": "bb7ff521-cb60-4cbf-d93f-781729e10c9c"
      },
      "outputs": [
        {
          "data": {
            "text/plain": [
              "0.030753002472814206"
            ]
          },
          "execution_count": 27,
          "metadata": {},
          "output_type": "execute_result"
        }
      ],
      "source": [
        "# For x = 2000\n",
        "-0.1012982*np.log(2000) + 0.80071074"
      ]
    },
    {
      "cell_type": "code",
      "execution_count": null,
      "metadata": {
        "colab": {
          "base_uri": "https://localhost:8080/",
          "height": 513
        },
        "id": "l19BxrqfZEN-",
        "outputId": "466fcc71-ec17-4e4c-adad-0a119a258ebf"
      },
      "outputs": [
        {
          "data": {
            "text/plain": [
              "0.9624295665165115"
            ]
          },
          "execution_count": 28,
          "metadata": {},
          "output_type": "execute_result"
        }
      ],
      "source": [
        "residuals = y-func(x, *popt)\n",
        "ss_res = np.sum(residuals**2)\n",
        "ss_tot = np.sum((y-np.mean(y))**2)\n",
        "r_squared = 1-(ss_res/ss_tot)\n",
        "r_squared"
      ]
    },
    {
      "cell_type": "markdown",
      "metadata": {
        "id": "8EXqt-fZQPGC"
      },
      "source": [
        "### Wind"
      ]
    },
    {
      "cell_type": "code",
      "execution_count": null,
      "metadata": {
        "id": "PQcb2Kq8QOWP"
      },
      "outputs": [],
      "source": [
        "# onshore\n",
        "onshore = onshore.merge(cons[['year', 'wind_cons']], on='year', how='left')\\\n",
        ".merge(invest[['year', 'wind_invest']], on='year', how='left')"
      ]
    },
    {
      "cell_type": "code",
      "execution_count": null,
      "metadata": {
        "id": "sdBfUflNzpx9",
        "outputId": "f8e7af78-547b-45cf-8145-2f0ff43b9e35"
      },
      "outputs": [
        {
          "data": {
            "text/html": [
              "<div>\n",
              "<style scoped>\n",
              "    .dataframe tbody tr th:only-of-type {\n",
              "        vertical-align: middle;\n",
              "    }\n",
              "\n",
              "    .dataframe tbody tr th {\n",
              "        vertical-align: top;\n",
              "    }\n",
              "\n",
              "    .dataframe thead th {\n",
              "        text-align: right;\n",
              "    }\n",
              "</style>\n",
              "<table border=\"1\" class=\"dataframe\">\n",
              "  <thead>\n",
              "    <tr style=\"text-align: right;\">\n",
              "      <th></th>\n",
              "      <th>year</th>\n",
              "      <th>onshore</th>\n",
              "      <th>onshore_trend</th>\n",
              "      <th>wind_cons</th>\n",
              "      <th>wind_invest</th>\n",
              "    </tr>\n",
              "  </thead>\n",
              "  <tbody>\n",
              "    <tr>\n",
              "      <th>count</th>\n",
              "      <td>37.000000</td>\n",
              "      <td>37.000000</td>\n",
              "      <td>37.000000</td>\n",
              "      <td>37.000000</td>\n",
              "      <td>1.300000e+01</td>\n",
              "    </tr>\n",
              "    <tr>\n",
              "      <th>mean</th>\n",
              "      <td>2001.000000</td>\n",
              "      <td>0.144541</td>\n",
              "      <td>0.144541</td>\n",
              "      <td>656.042141</td>\n",
              "      <td>7.752308e+10</td>\n",
              "    </tr>\n",
              "    <tr>\n",
              "      <th>std</th>\n",
              "      <td>10.824355</td>\n",
              "      <td>0.070353</td>\n",
              "      <td>0.069811</td>\n",
              "      <td>1000.461360</td>\n",
              "      <td>3.244968e+10</td>\n",
              "    </tr>\n",
              "    <tr>\n",
              "      <th>min</th>\n",
              "      <td>1983.000000</td>\n",
              "      <td>0.053000</td>\n",
              "      <td>0.053555</td>\n",
              "      <td>0.091097</td>\n",
              "      <td>1.960000e+10</td>\n",
              "    </tr>\n",
              "    <tr>\n",
              "      <th>25%</th>\n",
              "      <td>1992.000000</td>\n",
              "      <td>0.086000</td>\n",
              "      <td>0.086167</td>\n",
              "      <td>13.147811</td>\n",
              "      <td>6.110000e+10</td>\n",
              "    </tr>\n",
              "    <tr>\n",
              "      <th>50%</th>\n",
              "      <td>2001.000000</td>\n",
              "      <td>0.126000</td>\n",
              "      <td>0.125427</td>\n",
              "      <td>105.947676</td>\n",
              "      <td>8.420000e+10</td>\n",
              "    </tr>\n",
              "    <tr>\n",
              "      <th>75%</th>\n",
              "      <td>2010.000000</td>\n",
              "      <td>0.196000</td>\n",
              "      <td>0.194775</td>\n",
              "      <td>903.359720</td>\n",
              "      <td>1.016000e+11</td>\n",
              "    </tr>\n",
              "    <tr>\n",
              "      <th>max</th>\n",
              "      <td>2019.000000</td>\n",
              "      <td>0.308000</td>\n",
              "      <td>0.309734</td>\n",
              "      <td>3511.696050</td>\n",
              "      <td>1.242000e+11</td>\n",
              "    </tr>\n",
              "  </tbody>\n",
              "</table>\n",
              "</div>"
            ],
            "text/plain": [
              "              year    onshore  onshore_trend    wind_cons   wind_invest\n",
              "count    37.000000  37.000000      37.000000    37.000000  1.300000e+01\n",
              "mean   2001.000000   0.144541       0.144541   656.042141  7.752308e+10\n",
              "std      10.824355   0.070353       0.069811  1000.461360  3.244968e+10\n",
              "min    1983.000000   0.053000       0.053555     0.091097  1.960000e+10\n",
              "25%    1992.000000   0.086000       0.086167    13.147811  6.110000e+10\n",
              "50%    2001.000000   0.126000       0.125427   105.947676  8.420000e+10\n",
              "75%    2010.000000   0.196000       0.194775   903.359720  1.016000e+11\n",
              "max    2019.000000   0.308000       0.309734  3511.696050  1.242000e+11"
            ]
          },
          "execution_count": 30,
          "metadata": {},
          "output_type": "execute_result"
        }
      ],
      "source": [
        "onshore.describe()"
      ]
    },
    {
      "cell_type": "code",
      "execution_count": null,
      "metadata": {
        "colab": {
          "base_uri": "https://localhost:8080/",
          "height": 282
        },
        "id": "XaPAYwTTj_r7",
        "outputId": "342b2bdb-349a-4e27-d158-b20d3fe102dd"
      },
      "outputs": [
        {
          "data": {
            "text/plain": [
              "<matplotlib.collections.PathCollection at 0x1c2c2e15f10>"
            ]
          },
          "execution_count": 31,
          "metadata": {},
          "output_type": "execute_result"
        },
        {
          "data": {
            "image/png": "[encoded data removed]",
            "text/plain": [
              "<Figure size 432x288 with 1 Axes>"
            ]
          },
          "metadata": {
            "needs_background": "light"
          },
          "output_type": "display_data"
        }
      ],
      "source": [
        "# plt.scatter(onshore.wind_invest, onshore.onshore)\n",
        "plt.scatter(onshore.wind_cons, onshore.onshore)"
      ]
    },
    {
      "cell_type": "code",
      "execution_count": null,
      "metadata": {
        "id": "Io4SSOIL7hj5",
        "outputId": "fe2767c8-55d6-49a9-ddb1-d8c2d0ebf55f"
      },
      "outputs": [
        {
          "data": {
            "text/html": [
              "<div>\n",
              "<style scoped>\n",
              "    .dataframe tbody tr th:only-of-type {\n",
              "        vertical-align: middle;\n",
              "    }\n",
              "\n",
              "    .dataframe tbody tr th {\n",
              "        vertical-align: top;\n",
              "    }\n",
              "\n",
              "    .dataframe thead th {\n",
              "        text-align: right;\n",
              "    }\n",
              "</style>\n",
              "<table border=\"1\" class=\"dataframe\">\n",
              "  <thead>\n",
              "    <tr style=\"text-align: right;\">\n",
              "      <th></th>\n",
              "      <th>year</th>\n",
              "      <th>onshore</th>\n",
              "      <th>onshore_trend</th>\n",
              "      <th>wind_cons</th>\n",
              "      <th>wind_invest</th>\n",
              "    </tr>\n",
              "  </thead>\n",
              "  <tbody>\n",
              "    <tr>\n",
              "      <th>year</th>\n",
              "      <td>1.000000</td>\n",
              "      <td>-0.961917</td>\n",
              "      <td>-0.969386</td>\n",
              "      <td>0.823003</td>\n",
              "      <td>0.935390</td>\n",
              "    </tr>\n",
              "    <tr>\n",
              "      <th>onshore</th>\n",
              "      <td>-0.961917</td>\n",
              "      <td>1.000000</td>\n",
              "      <td>0.996400</td>\n",
              "      <td>-0.686957</td>\n",
              "      <td>-0.963509</td>\n",
              "    </tr>\n",
              "    <tr>\n",
              "      <th>onshore_trend</th>\n",
              "      <td>-0.969386</td>\n",
              "      <td>0.996400</td>\n",
              "      <td>1.000000</td>\n",
              "      <td>-0.692570</td>\n",
              "      <td>-0.953510</td>\n",
              "    </tr>\n",
              "    <tr>\n",
              "      <th>wind_cons</th>\n",
              "      <td>0.823003</td>\n",
              "      <td>-0.686957</td>\n",
              "      <td>-0.692570</td>\n",
              "      <td>1.000000</td>\n",
              "      <td>0.870135</td>\n",
              "    </tr>\n",
              "    <tr>\n",
              "      <th>wind_invest</th>\n",
              "      <td>0.935390</td>\n",
              "      <td>-0.963509</td>\n",
              "      <td>-0.953510</td>\n",
              "      <td>0.870135</td>\n",
              "      <td>1.000000</td>\n",
              "    </tr>\n",
              "  </tbody>\n",
              "</table>\n",
              "</div>"
            ],
            "text/plain": [
              "                   year   onshore  onshore_trend  wind_cons  wind_invest\n",
              "year           1.000000 -0.961917      -0.969386   0.823003     0.935390\n",
              "onshore       -0.961917  1.000000       0.996400  -0.686957    -0.963509\n",
              "onshore_trend -0.969386  0.996400       1.000000  -0.692570    -0.953510\n",
              "wind_cons      0.823003 -0.686957      -0.692570   1.000000     0.870135\n",
              "wind_invest    0.935390 -0.963509      -0.953510   0.870135     1.000000"
            ]
          },
          "execution_count": 32,
          "metadata": {},
          "output_type": "execute_result"
        }
      ],
      "source": [
        "onshore.corr()"
      ]
    },
    {
      "cell_type": "code",
      "execution_count": null,
      "metadata": {
        "id": "b-kzhu9sJpUD",
        "outputId": "910c05fb-a5f3-477f-9b02-e557101b877c"
      },
      "outputs": [
        {
          "data": {
            "text/html": [
              "<table class=\"simpletable\">\n",
              "<caption>OLS Regression Results</caption>\n",
              "<tr>\n",
              "  <th>Dep. Variable:</th>         <td>onshore</td>     <th>  R-squared:         </th> <td>   0.967</td>\n",
              "</tr>\n",
              "<tr>\n",
              "  <th>Model:</th>                   <td>OLS</td>       <th>  Adj. R-squared:    </th> <td>   0.966</td>\n",
              "</tr>\n",
              "<tr>\n",
              "  <th>Method:</th>             <td>Least Squares</td>  <th>  F-statistic:       </th> <td>   1020.</td>\n",
              "</tr>\n",
              "<tr>\n",
              "  <th>Date:</th>             <td>Mon, 18 Jul 2022</td> <th>  Prob (F-statistic):</th> <td>1.77e-27</td>\n",
              "</tr>\n",
              "<tr>\n",
              "  <th>Time:</th>                 <td>15:56:01</td>     <th>  Log-Likelihood:    </th> <td>  109.23</td>\n",
              "</tr>\n",
              "<tr>\n",
              "  <th>No. Observations:</th>      <td>    37</td>      <th>  AIC:               </th> <td>  -214.5</td>\n",
              "</tr>\n",
              "<tr>\n",
              "  <th>Df Residuals:</th>          <td>    35</td>      <th>  BIC:               </th> <td>  -211.2</td>\n",
              "</tr>\n",
              "<tr>\n",
              "  <th>Df Model:</th>              <td>     1</td>      <th>                     </th>     <td> </td>   \n",
              "</tr>\n",
              "<tr>\n",
              "  <th>Covariance Type:</th>      <td>nonrobust</td>    <th>                     </th>     <td> </td>   \n",
              "</tr>\n",
              "</table>\n",
              "<table class=\"simpletable\">\n",
              "<tr>\n",
              "          <td></td>             <th>coef</th>     <th>std err</th>      <th>t</th>      <th>P>|t|</th>  <th>[0.025</th>    <th>0.975]</th>  \n",
              "</tr>\n",
              "<tr>\n",
              "  <th>Intercept</th>         <td>    0.2389</td> <td>    0.004</td> <td>   65.536</td> <td> 0.000</td> <td>    0.231</td> <td>    0.246</td>\n",
              "</tr>\n",
              "<tr>\n",
              "  <th>np.log(wind_cons)</th> <td>   -0.0224</td> <td>    0.001</td> <td>  -31.940</td> <td> 0.000</td> <td>   -0.024</td> <td>   -0.021</td>\n",
              "</tr>\n",
              "</table>\n",
              "<table class=\"simpletable\">\n",
              "<tr>\n",
              "  <th>Omnibus:</th>       <td> 3.926</td> <th>  Durbin-Watson:     </th> <td>   0.720</td>\n",
              "</tr>\n",
              "<tr>\n",
              "  <th>Prob(Omnibus):</th> <td> 0.140</td> <th>  Jarque-Bera (JB):  </th> <td>   2.872</td>\n",
              "</tr>\n",
              "<tr>\n",
              "  <th>Skew:</th>          <td>-0.348</td> <th>  Prob(JB):          </th> <td>   0.238</td>\n",
              "</tr>\n",
              "<tr>\n",
              "  <th>Kurtosis:</th>      <td> 4.174</td> <th>  Cond. No.          </th> <td>    9.08</td>\n",
              "</tr>\n",
              "</table><br/><br/>Notes:<br/>[1] Standard Errors assume that the covariance matrix of the errors is correctly specified."
            ],
            "text/plain": [
              "<class 'statsmodels.iolib.summary.Summary'>\n",
              "\"\"\"\n",
              "                            OLS Regression Results                            \n",
              "==============================================================================\n",
              "Dep. Variable:                onshore   R-squared:                       0.967\n",
              "Model:                            OLS   Adj. R-squared:                  0.966\n",
              "Method:                 Least Squares   F-statistic:                     1020.\n",
              "Date:                Mon, 18 Jul 2022   Prob (F-statistic):           1.77e-27\n",
              "Time:                        15:56:01   Log-Likelihood:                 109.23\n",
              "No. Observations:                  37   AIC:                            -214.5\n",
              "Df Residuals:                      35   BIC:                            -211.2\n",
              "Df Model:                           1                                         \n",
              "Covariance Type:            nonrobust                                         \n",
              "=====================================================================================\n",
              "                        coef    std err          t      P>|t|      [0.025      0.975]\n",
              "-------------------------------------------------------------------------------------\n",
              "Intercept             0.2389      0.004     65.536      0.000       0.231       0.246\n",
              "np.log(wind_cons)    -0.0224      0.001    -31.940      0.000      -0.024      -0.021\n",
              "==============================================================================\n",
              "Omnibus:                        3.926   Durbin-Watson:                   0.720\n",
              "Prob(Omnibus):                  0.140   Jarque-Bera (JB):                2.872\n",
              "Skew:                          -0.348   Prob(JB):                        0.238\n",
              "Kurtosis:                       4.174   Cond. No.                         9.08\n",
              "==============================================================================\n",
              "\n",
              "Notes:\n",
              "[1] Standard Errors assume that the covariance matrix of the errors is correctly specified.\n",
              "\"\"\""
            ]
          },
          "execution_count": 33,
          "metadata": {},
          "output_type": "execute_result"
        }
      ],
      "source": [
        "model_w = sm.OLS.from_formula('onshore ~ np.log(wind_cons)', data=onshore).fit() # r_sq_adj 96.6\n",
        "# model_w = sm.OLS.from_formula('onshore ~ wind_invest', data=onshore).fit() # r_sq_adj 92.2\n",
        "model_w.summary()"
      ]
    },
    {
      "cell_type": "code",
      "execution_count": null,
      "metadata": {
        "id": "kMR_EH5w7hj6",
        "outputId": "2cf311cb-93d4-44b7-cf40-95e6f327f00f"
      },
      "outputs": [
        {
          "data": {
            "text/plain": [
              "array([-0.02240028,  0.23885685])"
            ]
          },
          "execution_count": 34,
          "metadata": {},
          "output_type": "execute_result"
        },
        {
          "data": {
            "image/png": "[encoded data removed]",
            "text/plain": [
              "<Figure size 432x288 with 1 Axes>"
            ]
          },
          "metadata": {
            "needs_background": "light"
          },
          "output_type": "display_data"
        }
      ],
      "source": [
        "def func(x, a, b):\n",
        "    return a * np.log(x) + b\n",
        "\n",
        "x = onshore.wind_cons\n",
        "y = onshore.onshore\n",
        "\n",
        "popt, pcov = curve_fit(func, x, y)\n",
        "\n",
        "fig, ax = plt.subplots()\n",
        "plt.plot(x, func(x, *popt))\n",
        "plt.plot(x, y)\n",
        "ax.set(ylabel='Cost per unit of energy', xlabel='Consumption of wind energy (TWh)', title='Price for onshore wind energy, compared to consumption')\n",
        "ax.set_ylim(0, 0.4)\n",
        "fig.savefig('onshore_consumption.jpg')\n",
        "popt"
      ]
    },
    {
      "cell_type": "code",
      "execution_count": null,
      "metadata": {
        "id": "WOYRGwn-7hj6",
        "outputId": "352391e2-d4cd-42a8-fc22-6ed79c6a7cac"
      },
      "outputs": [
        {
          "data": {
            "text/plain": [
              "0.9668298370684146"
            ]
          },
          "execution_count": 35,
          "metadata": {},
          "output_type": "execute_result"
        }
      ],
      "source": [
        "residuals = y-func(x, *popt)\n",
        "ss_res = np.sum(residuals**2)\n",
        "ss_tot = np.sum((y-np.mean(y))**2)\n",
        "r_squared = 1-(ss_res/ss_tot)\n",
        "r_squared"
      ]
    },
    {
      "cell_type": "code",
      "execution_count": null,
      "metadata": {
        "id": "epyX7wVK7hj6",
        "outputId": "be834dbd-a35c-43c9-fb26-98bebec4c4d3"
      },
      "outputs": [
        {
          "data": {
            "text/plain": [
              "0.06859450665356867"
            ]
          },
          "metadata": {},
          "output_type": "display_data"
        },
        {
          "data": {
            "text/html": [
              "<div>\n",
              "<style scoped>\n",
              "    .dataframe tbody tr th:only-of-type {\n",
              "        vertical-align: middle;\n",
              "    }\n",
              "\n",
              "    .dataframe tbody tr th {\n",
              "        vertical-align: top;\n",
              "    }\n",
              "\n",
              "    .dataframe thead th {\n",
              "        text-align: right;\n",
              "    }\n",
              "</style>\n",
              "<table border=\"1\" class=\"dataframe\">\n",
              "  <thead>\n",
              "    <tr style=\"text-align: right;\">\n",
              "      <th></th>\n",
              "      <th>year</th>\n",
              "      <th>onshore</th>\n",
              "      <th>onshore_trend</th>\n",
              "      <th>wind_cons</th>\n",
              "      <th>wind_invest</th>\n",
              "    </tr>\n",
              "  </thead>\n",
              "  <tbody>\n",
              "    <tr>\n",
              "      <th>32</th>\n",
              "      <td>2015</td>\n",
              "      <td>0.069</td>\n",
              "      <td>0.071128</td>\n",
              "      <td>2103.319152</td>\n",
              "      <td>1.242000e+11</td>\n",
              "    </tr>\n",
              "    <tr>\n",
              "      <th>33</th>\n",
              "      <td>2016</td>\n",
              "      <td>0.066</td>\n",
              "      <td>0.066925</td>\n",
              "      <td>2419.802622</td>\n",
              "      <td>1.125000e+11</td>\n",
              "    </tr>\n",
              "    <tr>\n",
              "      <th>34</th>\n",
              "      <td>2017</td>\n",
              "      <td>0.064</td>\n",
              "      <td>0.062631</td>\n",
              "      <td>2850.777372</td>\n",
              "      <td>NaN</td>\n",
              "    </tr>\n",
              "    <tr>\n",
              "      <th>35</th>\n",
              "      <td>2018</td>\n",
              "      <td>0.058</td>\n",
              "      <td>0.058137</td>\n",
              "      <td>3155.241097</td>\n",
              "      <td>NaN</td>\n",
              "    </tr>\n",
              "    <tr>\n",
              "      <th>36</th>\n",
              "      <td>2019</td>\n",
              "      <td>0.053</td>\n",
              "      <td>0.053555</td>\n",
              "      <td>3511.696050</td>\n",
              "      <td>NaN</td>\n",
              "    </tr>\n",
              "  </tbody>\n",
              "</table>\n",
              "</div>"
            ],
            "text/plain": [
              "    year  onshore  onshore_trend    wind_cons   wind_invest\n",
              "32  2015    0.069       0.071128  2103.319152  1.242000e+11\n",
              "33  2016    0.066       0.066925  2419.802622  1.125000e+11\n",
              "34  2017    0.064       0.062631  2850.777372           NaN\n",
              "35  2018    0.058       0.058137  3155.241097           NaN\n",
              "36  2019    0.053       0.053555  3511.696050           NaN"
            ]
          },
          "execution_count": 36,
          "metadata": {},
          "output_type": "execute_result"
        }
      ],
      "source": [
        "# For x = 2000\n",
        "display(-0.02240028 * np.log(2000) + 0.23885685)\n",
        "onshore.loc[onshore.wind_cons > 1900]"
      ]
    },
    {
      "cell_type": "code",
      "execution_count": null,
      "metadata": {
        "id": "odMp2cSXPfIA"
      },
      "outputs": [],
      "source": [
        "# offshore\n",
        "offshore = offshore.merge(cons[['year', 'wind_cons']], on='year', how='left')\\\n",
        ".merge(invest[['year', 'wind_invest']], on='year', how='left')"
      ]
    },
    {
      "cell_type": "code",
      "execution_count": null,
      "metadata": {
        "id": "hGQ5D_RBz0Ra",
        "outputId": "9566355a-2994-4d47-f00c-a3d076300f13"
      },
      "outputs": [
        {
          "data": {
            "text/html": [
              "<div>\n",
              "<style scoped>\n",
              "    .dataframe tbody tr th:only-of-type {\n",
              "        vertical-align: middle;\n",
              "    }\n",
              "\n",
              "    .dataframe tbody tr th {\n",
              "        vertical-align: top;\n",
              "    }\n",
              "\n",
              "    .dataframe thead th {\n",
              "        text-align: right;\n",
              "    }\n",
              "</style>\n",
              "<table border=\"1\" class=\"dataframe\">\n",
              "  <thead>\n",
              "    <tr style=\"text-align: right;\">\n",
              "      <th></th>\n",
              "      <th>year</th>\n",
              "      <th>offshore</th>\n",
              "      <th>offshore_trend</th>\n",
              "      <th>wind_cons</th>\n",
              "      <th>wind_invest</th>\n",
              "    </tr>\n",
              "  </thead>\n",
              "  <tbody>\n",
              "    <tr>\n",
              "      <th>count</th>\n",
              "      <td>20.00000</td>\n",
              "      <td>20.000000</td>\n",
              "      <td>20.000000</td>\n",
              "      <td>20.000000</td>\n",
              "      <td>1.300000e+01</td>\n",
              "    </tr>\n",
              "    <tr>\n",
              "      <th>mean</th>\n",
              "      <td>2009.50000</td>\n",
              "      <td>0.143000</td>\n",
              "      <td>0.143000</td>\n",
              "      <td>1200.434628</td>\n",
              "      <td>7.752308e+10</td>\n",
              "    </tr>\n",
              "    <tr>\n",
              "      <th>std</th>\n",
              "      <td>5.91608</td>\n",
              "      <td>0.027874</td>\n",
              "      <td>0.022482</td>\n",
              "      <td>1103.296792</td>\n",
              "      <td>3.244968e+10</td>\n",
              "    </tr>\n",
              "    <tr>\n",
              "      <th>min</th>\n",
              "      <td>2000.00000</td>\n",
              "      <td>0.103000</td>\n",
              "      <td>0.115064</td>\n",
              "      <td>87.278985</td>\n",
              "      <td>1.960000e+10</td>\n",
              "    </tr>\n",
              "    <tr>\n",
              "      <th>25%</th>\n",
              "      <td>2004.75000</td>\n",
              "      <td>0.119250</td>\n",
              "      <td>0.119006</td>\n",
              "      <td>267.581865</td>\n",
              "      <td>6.110000e+10</td>\n",
              "    </tr>\n",
              "    <tr>\n",
              "      <th>50%</th>\n",
              "      <td>2009.50000</td>\n",
              "      <td>0.140500</td>\n",
              "      <td>0.143762</td>\n",
              "      <td>813.743822</td>\n",
              "      <td>8.420000e+10</td>\n",
              "    </tr>\n",
              "    <tr>\n",
              "      <th>75%</th>\n",
              "      <td>2014.25000</td>\n",
              "      <td>0.170500</td>\n",
              "      <td>0.165058</td>\n",
              "      <td>1872.989178</td>\n",
              "      <td>1.016000e+11</td>\n",
              "    </tr>\n",
              "    <tr>\n",
              "      <th>max</th>\n",
              "      <td>2019.00000</td>\n",
              "      <td>0.183000</td>\n",
              "      <td>0.171586</td>\n",
              "      <td>3511.696050</td>\n",
              "      <td>1.242000e+11</td>\n",
              "    </tr>\n",
              "  </tbody>\n",
              "</table>\n",
              "</div>"
            ],
            "text/plain": [
              "             year   offshore  offshore_trend    wind_cons   wind_invest\n",
              "count    20.00000  20.000000       20.000000    20.000000  1.300000e+01\n",
              "mean   2009.50000   0.143000        0.143000  1200.434628  7.752308e+10\n",
              "std       5.91608   0.027874        0.022482  1103.296792  3.244968e+10\n",
              "min    2000.00000   0.103000        0.115064    87.278985  1.960000e+10\n",
              "25%    2004.75000   0.119250        0.119006   267.581865  6.110000e+10\n",
              "50%    2009.50000   0.140500        0.143762   813.743822  8.420000e+10\n",
              "75%    2014.25000   0.170500        0.165058  1872.989178  1.016000e+11\n",
              "max    2019.00000   0.183000        0.171586  3511.696050  1.242000e+11"
            ]
          },
          "execution_count": 38,
          "metadata": {},
          "output_type": "execute_result"
        }
      ],
      "source": [
        "offshore.describe()"
      ]
    },
    {
      "cell_type": "code",
      "execution_count": null,
      "metadata": {
        "colab": {
          "base_uri": "https://localhost:8080/",
          "height": 352
        },
        "id": "xyXW_KO2uytZ",
        "outputId": "9653ec26-2a9d-4a95-925e-133049f33341"
      },
      "outputs": [
        {
          "data": {
            "text/plain": [
              "<matplotlib.collections.PathCollection at 0x2b382b0f610>"
            ]
          },
          "execution_count": 39,
          "metadata": {},
          "output_type": "execute_result"
        },
        {
          "data": {
            "image/png": "[encoded data removed]",
            "text/plain": [
              "<Figure size 432x288 with 1 Axes>"
            ]
          },
          "metadata": {
            "needs_background": "light"
          },
          "output_type": "display_data"
        }
      ],
      "source": [
        "# plt.scatter(offshore.wind_invest, offshore.offshore)\n",
        "plt.scatter(offshore.wind_cons, offshore.offshore)"
      ]
    },
    {
      "cell_type": "code",
      "execution_count": null,
      "metadata": {
        "id": "GlPuDR0B7hj8",
        "outputId": "59051f24-8e7b-4527-b7fb-53e6939a9f42"
      },
      "outputs": [
        {
          "data": {
            "text/html": [
              "<div>\n",
              "<style scoped>\n",
              "    .dataframe tbody tr th:only-of-type {\n",
              "        vertical-align: middle;\n",
              "    }\n",
              "\n",
              "    .dataframe tbody tr th {\n",
              "        vertical-align: top;\n",
              "    }\n",
              "\n",
              "    .dataframe thead th {\n",
              "        text-align: right;\n",
              "    }\n",
              "</style>\n",
              "<table border=\"1\" class=\"dataframe\">\n",
              "  <thead>\n",
              "    <tr style=\"text-align: right;\">\n",
              "      <th></th>\n",
              "      <th>year</th>\n",
              "      <th>offshore</th>\n",
              "      <th>offshore_trend</th>\n",
              "      <th>wind_cons</th>\n",
              "      <th>wind_invest</th>\n",
              "    </tr>\n",
              "  </thead>\n",
              "  <tbody>\n",
              "    <tr>\n",
              "      <th>year</th>\n",
              "      <td>1.000000</td>\n",
              "      <td>0.352359</td>\n",
              "      <td>0.436856</td>\n",
              "      <td>0.952751</td>\n",
              "      <td>0.935390</td>\n",
              "    </tr>\n",
              "    <tr>\n",
              "      <th>offshore</th>\n",
              "      <td>0.352359</td>\n",
              "      <td>1.000000</td>\n",
              "      <td>0.869503</td>\n",
              "      <td>0.137662</td>\n",
              "      <td>0.658607</td>\n",
              "    </tr>\n",
              "    <tr>\n",
              "      <th>offshore_trend</th>\n",
              "      <td>0.436856</td>\n",
              "      <td>0.869503</td>\n",
              "      <td>1.000000</td>\n",
              "      <td>0.178352</td>\n",
              "      <td>0.814067</td>\n",
              "    </tr>\n",
              "    <tr>\n",
              "      <th>wind_cons</th>\n",
              "      <td>0.952751</td>\n",
              "      <td>0.137662</td>\n",
              "      <td>0.178352</td>\n",
              "      <td>1.000000</td>\n",
              "      <td>0.870135</td>\n",
              "    </tr>\n",
              "    <tr>\n",
              "      <th>wind_invest</th>\n",
              "      <td>0.935390</td>\n",
              "      <td>0.658607</td>\n",
              "      <td>0.814067</td>\n",
              "      <td>0.870135</td>\n",
              "      <td>1.000000</td>\n",
              "    </tr>\n",
              "  </tbody>\n",
              "</table>\n",
              "</div>"
            ],
            "text/plain": [
              "                    year  offshore  offshore_trend  wind_cons  wind_invest\n",
              "year            1.000000  0.352359        0.436856   0.952751     0.935390\n",
              "offshore        0.352359  1.000000        0.869503   0.137662     0.658607\n",
              "offshore_trend  0.436856  0.869503        1.000000   0.178352     0.814067\n",
              "wind_cons       0.952751  0.137662        0.178352   1.000000     0.870135\n",
              "wind_invest     0.935390  0.658607        0.814067   0.870135     1.000000"
            ]
          },
          "execution_count": 40,
          "metadata": {},
          "output_type": "execute_result"
        }
      ],
      "source": [
        "offshore.corr()"
      ]
    },
    {
      "cell_type": "code",
      "execution_count": null,
      "metadata": {
        "id": "JqFv2yk_7hj8",
        "outputId": "0d631298-b26f-41ac-8c56-1a81e9f2c8c2"
      },
      "outputs": [
        {
          "name": "stderr",
          "output_type": "stream",
          "text": [
            "C:\\Users\\tammi\\anaconda3\\lib\\site-packages\\scipy\\stats\\stats.py:1541: UserWarning: kurtosistest only valid for n>=20 ... continuing anyway, n=13\n",
            "  warnings.warn(\"kurtosistest only valid for n>=20 ... continuing \"\n"
          ]
        },
        {
          "data": {
            "text/html": [
              "<table class=\"simpletable\">\n",
              "<caption>OLS Regression Results</caption>\n",
              "<tr>\n",
              "  <th>Dep. Variable:</th>        <td>offshore</td>     <th>  R-squared:         </th> <td>   0.516</td>\n",
              "</tr>\n",
              "<tr>\n",
              "  <th>Model:</th>                   <td>OLS</td>       <th>  Adj. R-squared:    </th> <td>   0.419</td>\n",
              "</tr>\n",
              "<tr>\n",
              "  <th>Method:</th>             <td>Least Squares</td>  <th>  F-statistic:       </th> <td>   5.329</td>\n",
              "</tr>\n",
              "<tr>\n",
              "  <th>Date:</th>             <td>Fri, 15 Jul 2022</td> <th>  Prob (F-statistic):</th>  <td>0.0266</td> \n",
              "</tr>\n",
              "<tr>\n",
              "  <th>Time:</th>                 <td>18:28:53</td>     <th>  Log-Likelihood:    </th> <td>  34.210</td>\n",
              "</tr>\n",
              "<tr>\n",
              "  <th>No. Observations:</th>      <td>    13</td>      <th>  AIC:               </th> <td>  -62.42</td>\n",
              "</tr>\n",
              "<tr>\n",
              "  <th>Df Residuals:</th>          <td>    10</td>      <th>  BIC:               </th> <td>  -60.73</td>\n",
              "</tr>\n",
              "<tr>\n",
              "  <th>Df Model:</th>              <td>     2</td>      <th>                     </th>     <td> </td>   \n",
              "</tr>\n",
              "<tr>\n",
              "  <th>Covariance Type:</th>      <td>nonrobust</td>    <th>                     </th>     <td> </td>   \n",
              "</tr>\n",
              "</table>\n",
              "<table class=\"simpletable\">\n",
              "<tr>\n",
              "       <td></td>          <th>coef</th>     <th>std err</th>      <th>t</th>      <th>P>|t|</th>  <th>[0.025</th>    <th>0.975]</th>  \n",
              "</tr>\n",
              "<tr>\n",
              "  <th>Intercept</th>   <td>    0.1056</td> <td>    0.016</td> <td>    6.453</td> <td> 0.000</td> <td>    0.069</td> <td>    0.142</td>\n",
              "</tr>\n",
              "<tr>\n",
              "  <th>wind_cons</th>   <td>-2.071e-05</td> <td> 1.59e-05</td> <td>   -1.303</td> <td> 0.222</td> <td>-5.61e-05</td> <td> 1.47e-05</td>\n",
              "</tr>\n",
              "<tr>\n",
              "  <th>wind_invest</th> <td> 9.351e-13</td> <td> 3.58e-13</td> <td>    2.609</td> <td> 0.026</td> <td> 1.37e-13</td> <td> 1.73e-12</td>\n",
              "</tr>\n",
              "</table>\n",
              "<table class=\"simpletable\">\n",
              "<tr>\n",
              "  <th>Omnibus:</th>       <td> 4.092</td> <th>  Durbin-Watson:     </th> <td>   1.930</td>\n",
              "</tr>\n",
              "<tr>\n",
              "  <th>Prob(Omnibus):</th> <td> 0.129</td> <th>  Jarque-Bera (JB):  </th> <td>   1.230</td>\n",
              "</tr>\n",
              "<tr>\n",
              "  <th>Skew:</th>          <td>-0.097</td> <th>  Prob(JB):          </th> <td>   0.541</td>\n",
              "</tr>\n",
              "<tr>\n",
              "  <th>Kurtosis:</th>      <td> 1.506</td> <th>  Cond. No.          </th> <td>2.48e+11</td>\n",
              "</tr>\n",
              "</table><br/><br/>Notes:<br/>[1] Standard Errors assume that the covariance matrix of the errors is correctly specified.<br/>[2] The condition number is large, 2.48e+11. This might indicate that there are<br/>strong multicollinearity or other numerical problems."
            ],
            "text/plain": [
              "<class 'statsmodels.iolib.summary.Summary'>\n",
              "\"\"\"\n",
              "                            OLS Regression Results                            \n",
              "==============================================================================\n",
              "Dep. Variable:               offshore   R-squared:                       0.516\n",
              "Model:                            OLS   Adj. R-squared:                  0.419\n",
              "Method:                 Least Squares   F-statistic:                     5.329\n",
              "Date:                Fri, 15 Jul 2022   Prob (F-statistic):             0.0266\n",
              "Time:                        18:28:53   Log-Likelihood:                 34.210\n",
              "No. Observations:                  13   AIC:                            -62.42\n",
              "Df Residuals:                      10   BIC:                            -60.73\n",
              "Df Model:                           2                                         \n",
              "Covariance Type:            nonrobust                                         \n",
              "===============================================================================\n",
              "                  coef    std err          t      P>|t|      [0.025      0.975]\n",
              "-------------------------------------------------------------------------------\n",
              "Intercept       0.1056      0.016      6.453      0.000       0.069       0.142\n",
              "wind_cons   -2.071e-05   1.59e-05     -1.303      0.222   -5.61e-05    1.47e-05\n",
              "wind_invest  9.351e-13   3.58e-13      2.609      0.026    1.37e-13    1.73e-12\n",
              "==============================================================================\n",
              "Omnibus:                        4.092   Durbin-Watson:                   1.930\n",
              "Prob(Omnibus):                  0.129   Jarque-Bera (JB):                1.230\n",
              "Skew:                          -0.097   Prob(JB):                        0.541\n",
              "Kurtosis:                       1.506   Cond. No.                     2.48e+11\n",
              "==============================================================================\n",
              "\n",
              "Notes:\n",
              "[1] Standard Errors assume that the covariance matrix of the errors is correctly specified.\n",
              "[2] The condition number is large, 2.48e+11. This might indicate that there are\n",
              "strong multicollinearity or other numerical problems.\n",
              "\"\"\""
            ]
          },
          "execution_count": 41,
          "metadata": {},
          "output_type": "execute_result"
        }
      ],
      "source": [
        "model_off = sm.OLS.from_formula('offshore ~ wind_cons + wind_invest', data=offshore).fit() # r_sq_adj: 41.9\n",
        "\n",
        "# The condition number is large. This might indicate that there are strong multicollinearity or other numerical problems.\n",
        "model_off.summary()"
      ]
    },
    {
      "cell_type": "code",
      "execution_count": null,
      "metadata": {
        "id": "Ks3s9R6Q7hj8",
        "outputId": "3986bef0-cf35-41fb-88c7-4fbcfb003118"
      },
      "outputs": [
        {
          "data": {
            "text/plain": [
              "[<matplotlib.lines.Line2D at 0x2b382c4f670>]"
            ]
          },
          "execution_count": 42,
          "metadata": {},
          "output_type": "execute_result"
        },
        {
          "data": {
            "image/png": "[encoded data removed]",
            "text/plain": [
              "<Figure size 432x288 with 1 Axes>"
            ]
          },
          "metadata": {
            "needs_background": "light"
          },
          "output_type": "display_data"
        }
      ],
      "source": [
        "x = offshore.wind_cons\n",
        "y = offshore.offshore\n",
        "\n",
        "plt.plot(offshore.year, model_off.params[0] + x*model_off.params[1] + model_off.params[2]*offshore.wind_invest)\n",
        "plt.plot(offshore.year, y)"
      ]
    }
  ],
  "metadata": {
    "colab": {
      "collapsed_sections": [
        "g8G3MAl7Odnh",
        "ZCwrtK3IP_XW",
        "80hluPGkFeH8",
        "gtFBhpbgFldN",
        "3tVcoO50j8z4",
        "zUnObPXBnR-2",
        "ZWl1ZT1vq7Eu",
        "upNrOWsXMCXL",
        "SkFn1-9JQKjS"
      ],
      "name": "co2_question3.ipynb",
      "provenance": [],
      "include_colab_link": true
    },
    "kernelspec": {
      "display_name": "Python 3 (ipykernel)",
      "language": "python",
      "name": "python3"
    },
    "language_info": {
      "codemirror_mode": {
        "name": "ipython",
        "version": 3
      },
      "file_extension": ".py",
      "mimetype": "text/x-python",
      "name": "python",
      "nbconvert_exporter": "python",
      "pygments_lexer": "ipython3",
      "version": "3.9.7"
    }
  },
  "nbformat": 4,
  "nbformat_minor": 0
}