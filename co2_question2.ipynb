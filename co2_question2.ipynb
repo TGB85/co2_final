{
  "cells": [
    {
      "cell_type": "markdown",
      "metadata": {
        "id": "view-in-github",
        "colab_type": "text"
      },
      "source": [
        "<a href=\"https://colab.research.google.com/github/TGB85/co2_final_assignment/blob/main/co2_question2.ipynb\" target=\"_parent\"><img src=\"https://colab.research.google.com/assets/colab-badge.svg\" alt=\"Open In Colab\"/></a>"
      ]
    },
    {
      "cell_type": "markdown",
      "metadata": {
        "id": "le_hzJ7fjAuz"
      },
      "source": [
        "# Which countries are making the biggest strides in decreasing CO2 output?"
      ]
    },
    {
      "cell_type": "code",
      "execution_count": null,
      "metadata": {
        "id": "W9mXjBKgZpw0"
      },
      "outputs": [],
      "source": [
        "import os\n",
        "import pandas as pd\n",
        "import numpy as np\n",
        "from matplotlib import pyplot as plt\n",
        "import seaborn as sns\n",
        "from scipy.stats import ttest_ind"
      ]
    },
    {
      "cell_type": "code",
      "execution_count": null,
      "metadata": {
        "id": "COe1CIde7W1t"
      },
      "outputs": [],
      "source": [
        "# path = '/content/drive/MyDrive/Colab Notebooks/co2_emissions/'\n",
        "path = './'"
      ]
    },
    {
      "cell_type": "code",
      "execution_count": null,
      "metadata": {
        "id": "zcR0nnevaA4B"
      },
      "outputs": [],
      "source": [
        "select_col = ['country', 'year','population', 'gdp', 'co2', 'trade_co2', 'consumption_co2', 'total_ghg']\n",
        "df = pd.read_csv('https://github.com/owid/co2-data/blob/master/owid-co2-data.csv?raw=True', usecols=select_col)"
      ]
    },
    {
      "cell_type": "code",
      "execution_count": null,
      "metadata": {
        "colab": {
          "base_uri": "https://localhost:8080/"
        },
        "id": "mS4BP_Qw-Yea",
        "outputId": "e631a78c-c97e-4730-f5ee-6d2298c7ef7e"
      },
      "outputs": [
        {
          "data": {
            "text/plain": [
              "230"
            ]
          },
          "execution_count": 4,
          "metadata": {},
          "output_type": "execute_result"
        }
      ],
      "source": [
        "df['country'].unique()\n",
        "not_countries=['Africa', 'Antarctica', 'Asia', 'Asia (excl. China & India)', 'EU-27', 'Europe (excl. EU-27)', 'Europe (excl. EU-28)', 'European Union (27)', 'European Union (28)', 'High-income countries', 'Low-income countries', 'Lower-middle-income countries', 'North America', 'North America (excl. USA)', 'Oceania', 'South America', 'Upper-middle-income countries', 'World']\n",
        "df.drop(df[df.country.isin(not_countries)].index.tolist(), inplace=True)\n",
        "len(df['country'].unique())"
      ]
    },
    {
      "cell_type": "code",
      "execution_count": null,
      "metadata": {
        "colab": {
          "base_uri": "https://localhost:8080/"
        },
        "id": "t6jVlwdYUBbP",
        "outputId": "0f1ddaf5-e0d8-44b1-a7ed-bcbb2056b6b3"
      },
      "outputs": [
        {
          "data": {
            "text/plain": [
              "Index(['country', 'year', 'co2', 'trade_co2', 'consumption_co2', 'total_ghg',\n",
              "       'population', 'gdp'],\n",
              "      dtype='object')"
            ]
          },
          "execution_count": 5,
          "metadata": {},
          "output_type": "execute_result"
        }
      ],
      "source": [
        "df.columns"
      ]
    },
    {
      "cell_type": "code",
      "execution_count": null,
      "metadata": {
        "id": "RzzuU7CHQ5m-"
      },
      "outputs": [],
      "source": [
        "# df.groupby('year').consumption_co2.count().reset_index() # 120 countries, 1990-2019\n",
        "# df.groupby('year').co2.count().reset_index() # 221 countries in 2020, 202 countries in 1967"
      ]
    },
    {
      "cell_type": "markdown",
      "metadata": {
        "id": "YlgK5pe2aPM2"
      },
      "source": [
        "## Consumption CO2\n",
        "\n",
        "Annual consumption-based emissions of carbon dioxide (CO2), measured in million tonnes. Consumption-based emissions are national or regional emissions which have been adjusted for trade (i.e. territorial/production emissions minus emissions embedded in exports, plus emissions embedded in imports). If a country's consumption-based emissions are higher than its production emissions it is a net importer of carbon dioxide. Data has been converted by Our World in Data from million tonnes of carbon to million tonnes of CO2 using a conversion factor of 3.664.\t\n"
      ]
    },
    {
      "cell_type": "code",
      "execution_count": null,
      "metadata": {
        "id": "DQ9xHR0Ia3Qs"
      },
      "outputs": [],
      "source": [
        "# df.groupby('year').consumption_co2.count().reset_index().sort_values(by='consumption_co2', ascending=False).iloc[:30]\n",
        "# 120 values for 2019, 118 values for 1990"
      ]
    },
    {
      "cell_type": "code",
      "execution_count": null,
      "metadata": {
        "id": "G96VXIx0VSTn"
      },
      "outputs": [],
      "source": [
        "# consumption co2, select data for 1990 and 2019\n",
        "def calculate_rel_co2(df, column, start_year, end_year):\n",
        "  df = df.loc[(df.year == start_year) | (df.year == end_year), ['country', 'year', column, 'population']]\n",
        "  df['rel_co2'] = 1000000*df[column] / df.population # measurement: tonnes\n",
        "  df_pivot = df.pivot(index='country', columns='year', values='rel_co2').reset_index()\n",
        "  df_pivot.dropna(inplace=True)\n",
        "  return df_pivot\n",
        "\n",
        "df2 = calculate_rel_co2(df, 'consumption_co2', 1990, 2019)\n",
        "# df2.head()"
      ]
    },
    {
      "cell_type": "code",
      "execution_count": null,
      "metadata": {
        "colab": {
          "base_uri": "https://localhost:8080/",
          "height": 520
        },
        "id": "Qwylv8HGcqkg",
        "outputId": "7ce0d515-e042-4892-acac-9abb287a5494"
      },
      "outputs": [
        {
          "data": {
            "text/html": [
              "<div>\n",
              "<style scoped>\n",
              "    .dataframe tbody tr th:only-of-type {\n",
              "        vertical-align: middle;\n",
              "    }\n",
              "\n",
              "    .dataframe tbody tr th {\n",
              "        vertical-align: top;\n",
              "    }\n",
              "\n",
              "    .dataframe thead th {\n",
              "        text-align: right;\n",
              "    }\n",
              "</style>\n",
              "<table border=\"1\" class=\"dataframe\">\n",
              "  <thead>\n",
              "    <tr style=\"text-align: right;\">\n",
              "      <th>year</th>\n",
              "      <th>country</th>\n",
              "      <th>1990</th>\n",
              "      <th>2019</th>\n",
              "      <th>change</th>\n",
              "    </tr>\n",
              "  </thead>\n",
              "  <tbody>\n",
              "    <tr>\n",
              "      <th>14</th>\n",
              "      <td>Bahrain</td>\n",
              "      <td>23.392556</td>\n",
              "      <td>11.549120</td>\n",
              "      <td>11.843436</td>\n",
              "    </tr>\n",
              "    <tr>\n",
              "      <th>218</th>\n",
              "      <td>United Arab Emirates</td>\n",
              "      <td>30.706554</td>\n",
              "      <td>20.650168</td>\n",
              "      <td>10.056387</td>\n",
              "    </tr>\n",
              "    <tr>\n",
              "      <th>63</th>\n",
              "      <td>Estonia</td>\n",
              "      <td>20.256880</td>\n",
              "      <td>11.257882</td>\n",
              "      <td>8.998998</td>\n",
              "    </tr>\n",
              "    <tr>\n",
              "      <th>104</th>\n",
              "      <td>Kazakhstan</td>\n",
              "      <td>17.775886</td>\n",
              "      <td>12.322663</td>\n",
              "      <td>5.453223</td>\n",
              "    </tr>\n",
              "    <tr>\n",
              "      <th>188</th>\n",
              "      <td>Slovakia</td>\n",
              "      <td>13.731799</td>\n",
              "      <td>8.430071</td>\n",
              "      <td>5.301728</td>\n",
              "    </tr>\n",
              "    <tr>\n",
              "      <th>78</th>\n",
              "      <td>Germany</td>\n",
              "      <td>15.049855</td>\n",
              "      <td>9.875110</td>\n",
              "      <td>5.174745</td>\n",
              "    </tr>\n",
              "    <tr>\n",
              "      <th>217</th>\n",
              "      <td>Ukraine</td>\n",
              "      <td>9.825856</td>\n",
              "      <td>4.875773</td>\n",
              "      <td>4.950083</td>\n",
              "    </tr>\n",
              "    <tr>\n",
              "      <th>52</th>\n",
              "      <td>Czechia</td>\n",
              "      <td>14.586771</td>\n",
              "      <td>9.683968</td>\n",
              "      <td>4.902802</td>\n",
              "    </tr>\n",
              "    <tr>\n",
              "      <th>69</th>\n",
              "      <td>Finland</td>\n",
              "      <td>16.054938</td>\n",
              "      <td>11.290529</td>\n",
              "      <td>4.764409</td>\n",
              "    </tr>\n",
              "    <tr>\n",
              "      <th>145</th>\n",
              "      <td>Netherlands</td>\n",
              "      <td>13.410095</td>\n",
              "      <td>8.653269</td>\n",
              "      <td>4.756826</td>\n",
              "    </tr>\n",
              "    <tr>\n",
              "      <th>186</th>\n",
              "      <td>Singapore</td>\n",
              "      <td>23.710175</td>\n",
              "      <td>19.110173</td>\n",
              "      <td>4.600002</td>\n",
              "    </tr>\n",
              "    <tr>\n",
              "      <th>80</th>\n",
              "      <td>Greece</td>\n",
              "      <td>9.395472</td>\n",
              "      <td>5.132405</td>\n",
              "      <td>4.263066</td>\n",
              "    </tr>\n",
              "    <tr>\n",
              "      <th>171</th>\n",
              "      <td>Russia</td>\n",
              "      <td>13.829393</td>\n",
              "      <td>9.821627</td>\n",
              "      <td>4.007766</td>\n",
              "    </tr>\n",
              "    <tr>\n",
              "      <th>219</th>\n",
              "      <td>United Kingdom</td>\n",
              "      <td>11.699104</td>\n",
              "      <td>7.710570</td>\n",
              "      <td>3.988534</td>\n",
              "    </tr>\n",
              "    <tr>\n",
              "      <th>54</th>\n",
              "      <td>Denmark</td>\n",
              "      <td>12.001477</td>\n",
              "      <td>8.272006</td>\n",
              "      <td>3.729472</td>\n",
              "    </tr>\n",
              "  </tbody>\n",
              "</table>\n",
              "</div>"
            ],
            "text/plain": [
              "year               country       1990       2019     change\n",
              "14                 Bahrain  23.392556  11.549120  11.843436\n",
              "218   United Arab Emirates  30.706554  20.650168  10.056387\n",
              "63                 Estonia  20.256880  11.257882   8.998998\n",
              "104             Kazakhstan  17.775886  12.322663   5.453223\n",
              "188               Slovakia  13.731799   8.430071   5.301728\n",
              "78                 Germany  15.049855   9.875110   5.174745\n",
              "217                Ukraine   9.825856   4.875773   4.950083\n",
              "52                 Czechia  14.586771   9.683968   4.902802\n",
              "69                 Finland  16.054938  11.290529   4.764409\n",
              "145            Netherlands  13.410095   8.653269   4.756826\n",
              "186              Singapore  23.710175  19.110173   4.600002\n",
              "80                  Greece   9.395472   5.132405   4.263066\n",
              "171                 Russia  13.829393   9.821627   4.007766\n",
              "219         United Kingdom  11.699104   7.710570   3.988534\n",
              "54                 Denmark  12.001477   8.272006   3.729472"
            ]
          },
          "execution_count": 9,
          "metadata": {},
          "output_type": "execute_result"
        }
      ],
      "source": [
        "# 2019 - 1990: positive value for decrease, negative value for increase\n",
        "df2['change'] = df2.iloc[:, 1] - df2.iloc[:, 2]\n",
        "df2.sort_values(by='change', ascending=False).iloc[:15]"
      ]
    },
    {
      "cell_type": "code",
      "execution_count": null,
      "metadata": {
        "id": "tWKocXJu7W1-",
        "outputId": "696fe2d6-fa73-4282-b74c-575e95c18b94"
      },
      "outputs": [
        {
          "data": {
            "text/html": [
              "<div>\n",
              "<style scoped>\n",
              "    .dataframe tbody tr th:only-of-type {\n",
              "        vertical-align: middle;\n",
              "    }\n",
              "\n",
              "    .dataframe tbody tr th {\n",
              "        vertical-align: top;\n",
              "    }\n",
              "\n",
              "    .dataframe thead th {\n",
              "        text-align: right;\n",
              "    }\n",
              "</style>\n",
              "<table border=\"1\" class=\"dataframe\">\n",
              "  <thead>\n",
              "    <tr style=\"text-align: right;\">\n",
              "      <th></th>\n",
              "      <th>country</th>\n",
              "      <th>_1999</th>\n",
              "      <th>_2019</th>\n",
              "      <th>change</th>\n",
              "    </tr>\n",
              "  </thead>\n",
              "  <tbody>\n",
              "    <tr>\n",
              "      <th>120</th>\n",
              "      <td>Luxembourg</td>\n",
              "      <td>30.968097</td>\n",
              "      <td>36.436425</td>\n",
              "      <td>-5.468328</td>\n",
              "    </tr>\n",
              "    <tr>\n",
              "      <th>168</th>\n",
              "      <td>Qatar</td>\n",
              "      <td>22.545798</td>\n",
              "      <td>27.081242</td>\n",
              "      <td>-4.535444</td>\n",
              "    </tr>\n",
              "    <tr>\n",
              "      <th>29</th>\n",
              "      <td>Brunei</td>\n",
              "      <td>17.200461</td>\n",
              "      <td>23.002751</td>\n",
              "      <td>-5.802290</td>\n",
              "    </tr>\n",
              "    <tr>\n",
              "      <th>136</th>\n",
              "      <td>Mongolia</td>\n",
              "      <td>4.125195</td>\n",
              "      <td>22.748907</td>\n",
              "      <td>-18.623711</td>\n",
              "    </tr>\n",
              "    <tr>\n",
              "      <th>210</th>\n",
              "      <td>Trinidad and Tobago</td>\n",
              "      <td>9.617393</td>\n",
              "      <td>21.681485</td>\n",
              "      <td>-12.064093</td>\n",
              "    </tr>\n",
              "    <tr>\n",
              "      <th>108</th>\n",
              "      <td>Kuwait</td>\n",
              "      <td>18.695206</td>\n",
              "      <td>21.318602</td>\n",
              "      <td>-2.623396</td>\n",
              "    </tr>\n",
              "    <tr>\n",
              "      <th>218</th>\n",
              "      <td>United Arab Emirates</td>\n",
              "      <td>30.706554</td>\n",
              "      <td>20.650168</td>\n",
              "      <td>10.056387</td>\n",
              "    </tr>\n",
              "    <tr>\n",
              "      <th>186</th>\n",
              "      <td>Singapore</td>\n",
              "      <td>23.710175</td>\n",
              "      <td>19.110173</td>\n",
              "      <td>4.600002</td>\n",
              "    </tr>\n",
              "    <tr>\n",
              "      <th>181</th>\n",
              "      <td>Saudi Arabia</td>\n",
              "      <td>11.935725</td>\n",
              "      <td>18.833461</td>\n",
              "      <td>-6.897736</td>\n",
              "    </tr>\n",
              "    <tr>\n",
              "      <th>220</th>\n",
              "      <td>United States</td>\n",
              "      <td>19.957877</td>\n",
              "      <td>17.096274</td>\n",
              "      <td>2.861602</td>\n",
              "    </tr>\n",
              "    <tr>\n",
              "      <th>35</th>\n",
              "      <td>Canada</td>\n",
              "      <td>17.630380</td>\n",
              "      <td>15.380648</td>\n",
              "      <td>2.249733</td>\n",
              "    </tr>\n",
              "    <tr>\n",
              "      <th>10</th>\n",
              "      <td>Australia</td>\n",
              "      <td>14.498721</td>\n",
              "      <td>14.897196</td>\n",
              "      <td>-0.398475</td>\n",
              "    </tr>\n",
              "    <tr>\n",
              "      <th>18</th>\n",
              "      <td>Belgium</td>\n",
              "      <td>15.430601</td>\n",
              "      <td>14.865513</td>\n",
              "      <td>0.565088</td>\n",
              "    </tr>\n",
              "    <tr>\n",
              "      <th>90</th>\n",
              "      <td>Hong Kong</td>\n",
              "      <td>15.309687</td>\n",
              "      <td>14.554157</td>\n",
              "      <td>0.755530</td>\n",
              "    </tr>\n",
              "    <tr>\n",
              "      <th>193</th>\n",
              "      <td>South Korea</td>\n",
              "      <td>7.474787</td>\n",
              "      <td>13.614458</td>\n",
              "      <td>-6.139672</td>\n",
              "    </tr>\n",
              "  </tbody>\n",
              "</table>\n",
              "</div>"
            ],
            "text/plain": [
              "                  country      _1999      _2019     change\n",
              "120            Luxembourg  30.968097  36.436425  -5.468328\n",
              "168                 Qatar  22.545798  27.081242  -4.535444\n",
              "29                 Brunei  17.200461  23.002751  -5.802290\n",
              "136              Mongolia   4.125195  22.748907 -18.623711\n",
              "210   Trinidad and Tobago   9.617393  21.681485 -12.064093\n",
              "108                Kuwait  18.695206  21.318602  -2.623396\n",
              "218  United Arab Emirates  30.706554  20.650168  10.056387\n",
              "186             Singapore  23.710175  19.110173   4.600002\n",
              "181          Saudi Arabia  11.935725  18.833461  -6.897736\n",
              "220         United States  19.957877  17.096274   2.861602\n",
              "35                 Canada  17.630380  15.380648   2.249733\n",
              "10              Australia  14.498721  14.897196  -0.398475\n",
              "18                Belgium  15.430601  14.865513   0.565088\n",
              "90              Hong Kong  15.309687  14.554157   0.755530\n",
              "193           South Korea   7.474787  13.614458  -6.139672"
            ]
          },
          "execution_count": 10,
          "metadata": {},
          "output_type": "execute_result"
        }
      ],
      "source": [
        "# countries with highest relative consumption co2 emissions in 2019\n",
        "df2.columns = ['country', '_1999', '_2019', 'change']\n",
        "df2.sort_values(by='_2019', ascending=False).iloc[:15]"
      ]
    },
    {
      "cell_type": "code",
      "execution_count": null,
      "metadata": {
        "id": "OWtFX2dZ7W1_",
        "outputId": "8ea89042-159b-418d-95b5-59ad08f1f2b4"
      },
      "outputs": [
        {
          "name": "stdout",
          "output_type": "stream",
          "text": [
            "<class 'pandas.core.frame.DataFrame'>\n",
            "Int64Index: 119 entries, 1 to 229\n",
            "Data columns (total 3 columns):\n",
            " #   Column   Non-Null Count  Dtype  \n",
            "---  ------   --------------  -----  \n",
            " 0   country  119 non-null    object \n",
            " 1   2005     119 non-null    float64\n",
            " 2   2019     119 non-null    float64\n",
            "dtypes: float64(2), object(1)\n",
            "memory usage: 3.7+ KB\n"
          ]
        }
      ],
      "source": [
        "# 2005-2019: 119 values \n",
        "df6 = calculate_rel_co2(df, 'consumption_co2', 2005, 2019) \n",
        "df6.info() "
      ]
    },
    {
      "cell_type": "code",
      "execution_count": null,
      "metadata": {
        "id": "e5H5-szv7W2A"
      },
      "outputs": [],
      "source": [
        "# 2019 - 2005: positive value for decrease, negative value for increase \n",
        "df6['change'] = df6.iloc[:, 1] - df6.iloc[:, 2] "
      ]
    },
    {
      "cell_type": "markdown",
      "metadata": {
        "id": "xk84880ufUxA"
      },
      "source": [
        "## Production CO2\n",
        "Annual production-based emissions of carbon dioxide (CO2), measured in million tonnes. This is based on territorial emissions, which do not account for emissions embedded in traded goods."
      ]
    },
    {
      "cell_type": "code",
      "execution_count": null,
      "metadata": {
        "colab": {
          "base_uri": "https://localhost:8080/"
        },
        "id": "ELABpOGFc5J-",
        "outputId": "75139887-e18e-44fd-8f5b-56e51ecfe899"
      },
      "outputs": [
        {
          "name": "stdout",
          "output_type": "stream",
          "text": [
            "<class 'pandas.core.frame.DataFrame'>\n",
            "Int64Index: 198 entries, 0 to 229\n",
            "Data columns (total 3 columns):\n",
            " #   Column   Non-Null Count  Dtype  \n",
            "---  ------   --------------  -----  \n",
            " 0   country  198 non-null    object \n",
            " 1   1967     198 non-null    float64\n",
            " 2   2019     198 non-null    float64\n",
            "dtypes: float64(2), object(1)\n",
            "memory usage: 6.2+ KB\n"
          ]
        }
      ],
      "source": [
        "# 1967\n",
        "df3 = calculate_rel_co2(df, 'co2', 1967, 2019)\n",
        "df3.info()"
      ]
    },
    {
      "cell_type": "code",
      "execution_count": null,
      "metadata": {
        "colab": {
          "base_uri": "https://localhost:8080/",
          "height": 520
        },
        "id": "qPbSr_B8hsPs",
        "outputId": "520dada7-ce9d-4a23-83e4-d40cfae77ade"
      },
      "outputs": [
        {
          "data": {
            "text/html": [
              "<div>\n",
              "<style scoped>\n",
              "    .dataframe tbody tr th:only-of-type {\n",
              "        vertical-align: middle;\n",
              "    }\n",
              "\n",
              "    .dataframe tbody tr th {\n",
              "        vertical-align: top;\n",
              "    }\n",
              "\n",
              "    .dataframe thead th {\n",
              "        text-align: right;\n",
              "    }\n",
              "</style>\n",
              "<table border=\"1\" class=\"dataframe\">\n",
              "  <thead>\n",
              "    <tr style=\"text-align: right;\">\n",
              "      <th>year</th>\n",
              "      <th>country</th>\n",
              "      <th>1967</th>\n",
              "      <th>2019</th>\n",
              "      <th>change</th>\n",
              "    </tr>\n",
              "  </thead>\n",
              "  <tbody>\n",
              "    <tr>\n",
              "      <th>187</th>\n",
              "      <td>Sint Maarten (Dutch part)</td>\n",
              "      <td>218.948154</td>\n",
              "      <td>16.631673</td>\n",
              "      <td>202.316480</td>\n",
              "    </tr>\n",
              "    <tr>\n",
              "      <th>50</th>\n",
              "      <td>Curacao</td>\n",
              "      <td>71.538087</td>\n",
              "      <td>23.013896</td>\n",
              "      <td>48.524191</td>\n",
              "    </tr>\n",
              "    <tr>\n",
              "      <th>24</th>\n",
              "      <td>Bonaire Sint Eustatius and Saba</td>\n",
              "      <td>54.471882</td>\n",
              "      <td>13.085479</td>\n",
              "      <td>41.386403</td>\n",
              "    </tr>\n",
              "    <tr>\n",
              "      <th>168</th>\n",
              "      <td>Qatar</td>\n",
              "      <td>77.440960</td>\n",
              "      <td>40.619391</td>\n",
              "      <td>36.821569</td>\n",
              "    </tr>\n",
              "    <tr>\n",
              "      <th>108</th>\n",
              "      <td>Kuwait</td>\n",
              "      <td>44.044674</td>\n",
              "      <td>22.973433</td>\n",
              "      <td>21.071241</td>\n",
              "    </tr>\n",
              "    <tr>\n",
              "      <th>120</th>\n",
              "      <td>Luxembourg</td>\n",
              "      <td>33.958245</td>\n",
              "      <td>15.838111</td>\n",
              "      <td>18.120134</td>\n",
              "    </tr>\n",
              "    <tr>\n",
              "      <th>63</th>\n",
              "      <td>Estonia</td>\n",
              "      <td>15.987884</td>\n",
              "      <td>9.338822</td>\n",
              "      <td>6.649062</td>\n",
              "    </tr>\n",
              "    <tr>\n",
              "      <th>219</th>\n",
              "      <td>United Kingdom</td>\n",
              "      <td>10.790859</td>\n",
              "      <td>5.464373</td>\n",
              "      <td>5.326486</td>\n",
              "    </tr>\n",
              "    <tr>\n",
              "      <th>135</th>\n",
              "      <td>Moldova</td>\n",
              "      <td>6.581277</td>\n",
              "      <td>1.275209</td>\n",
              "      <td>5.306067</td>\n",
              "    </tr>\n",
              "    <tr>\n",
              "      <th>54</th>\n",
              "      <td>Denmark</td>\n",
              "      <td>10.146634</td>\n",
              "      <td>5.353025</td>\n",
              "      <td>4.793610</td>\n",
              "    </tr>\n",
              "    <tr>\n",
              "      <th>200</th>\n",
              "      <td>Sweden</td>\n",
              "      <td>8.752013</td>\n",
              "      <td>4.078857</td>\n",
              "      <td>4.673157</td>\n",
              "    </tr>\n",
              "    <tr>\n",
              "      <th>13</th>\n",
              "      <td>Bahamas</td>\n",
              "      <td>11.145255</td>\n",
              "      <td>6.773029</td>\n",
              "      <td>4.372226</td>\n",
              "    </tr>\n",
              "    <tr>\n",
              "      <th>6</th>\n",
              "      <td>Antigua and Barbuda</td>\n",
              "      <td>9.209667</td>\n",
              "      <td>5.004376</td>\n",
              "      <td>4.205291</td>\n",
              "    </tr>\n",
              "    <tr>\n",
              "      <th>9</th>\n",
              "      <td>Aruba</td>\n",
              "      <td>11.749707</td>\n",
              "      <td>8.004891</td>\n",
              "      <td>3.744816</td>\n",
              "    </tr>\n",
              "    <tr>\n",
              "      <th>217</th>\n",
              "      <td>Ukraine</td>\n",
              "      <td>8.783798</td>\n",
              "      <td>5.059345</td>\n",
              "      <td>3.724453</td>\n",
              "    </tr>\n",
              "  </tbody>\n",
              "</table>\n",
              "</div>"
            ],
            "text/plain": [
              "year                          country        1967       2019      change\n",
              "187         Sint Maarten (Dutch part)  218.948154  16.631673  202.316480\n",
              "50                            Curacao   71.538087  23.013896   48.524191\n",
              "24    Bonaire Sint Eustatius and Saba   54.471882  13.085479   41.386403\n",
              "168                             Qatar   77.440960  40.619391   36.821569\n",
              "108                            Kuwait   44.044674  22.973433   21.071241\n",
              "120                        Luxembourg   33.958245  15.838111   18.120134\n",
              "63                            Estonia   15.987884   9.338822    6.649062\n",
              "219                    United Kingdom   10.790859   5.464373    5.326486\n",
              "135                           Moldova    6.581277   1.275209    5.306067\n",
              "54                            Denmark   10.146634   5.353025    4.793610\n",
              "200                            Sweden    8.752013   4.078857    4.673157\n",
              "13                            Bahamas   11.145255   6.773029    4.372226\n",
              "6                 Antigua and Barbuda    9.209667   5.004376    4.205291\n",
              "9                               Aruba   11.749707   8.004891    3.744816\n",
              "217                           Ukraine    8.783798   5.059345    3.724453"
            ]
          },
          "execution_count": 14,
          "metadata": {},
          "output_type": "execute_result"
        }
      ],
      "source": [
        "# 2019 - 1967: positive value for decrease, negative value for increase\n",
        "df3['change'] = df3.iloc[:, 1] - df3.iloc[:, 2]\n",
        "df3.sort_values(by='change', ascending=False).iloc[:15]"
      ]
    },
    {
      "cell_type": "code",
      "execution_count": null,
      "metadata": {
        "colab": {
          "base_uri": "https://localhost:8080/"
        },
        "id": "QyUjPP7XilhW",
        "outputId": "ae7f868a-0775-4d73-c6e8-b7b11a6d0da6"
      },
      "outputs": [
        {
          "name": "stdout",
          "output_type": "stream",
          "text": [
            "<class 'pandas.core.frame.DataFrame'>\n",
            "Int64Index: 213 entries, 0 to 229\n",
            "Data columns (total 3 columns):\n",
            " #   Column   Non-Null Count  Dtype  \n",
            "---  ------   --------------  -----  \n",
            " 0   country  213 non-null    object \n",
            " 1   1990     213 non-null    float64\n",
            " 2   2019     213 non-null    float64\n",
            "dtypes: float64(2), object(1)\n",
            "memory usage: 6.7+ KB\n"
          ]
        }
      ],
      "source": [
        "# 1990\n",
        "df4 = calculate_rel_co2(df, 'co2', 1990, 2019)\n",
        "df4.info()"
      ]
    },
    {
      "cell_type": "code",
      "execution_count": null,
      "metadata": {
        "colab": {
          "base_uri": "https://localhost:8080/",
          "height": 520
        },
        "id": "pfHf_dYgilQC",
        "outputId": "bda33182-1dbd-495a-f3b0-71c4f891555b"
      },
      "outputs": [
        {
          "data": {
            "text/html": [
              "<div>\n",
              "<style scoped>\n",
              "    .dataframe tbody tr th:only-of-type {\n",
              "        vertical-align: middle;\n",
              "    }\n",
              "\n",
              "    .dataframe tbody tr th {\n",
              "        vertical-align: top;\n",
              "    }\n",
              "\n",
              "    .dataframe thead th {\n",
              "        text-align: right;\n",
              "    }\n",
              "</style>\n",
              "<table border=\"1\" class=\"dataframe\">\n",
              "  <thead>\n",
              "    <tr style=\"text-align: right;\">\n",
              "      <th>year</th>\n",
              "      <th>country</th>\n",
              "      <th>1990</th>\n",
              "      <th>2019</th>\n",
              "      <th>change</th>\n",
              "    </tr>\n",
              "  </thead>\n",
              "  <tbody>\n",
              "    <tr>\n",
              "      <th>120</th>\n",
              "      <td>Luxembourg</td>\n",
              "      <td>30.968097</td>\n",
              "      <td>15.838111</td>\n",
              "      <td>15.129986</td>\n",
              "    </tr>\n",
              "    <tr>\n",
              "      <th>63</th>\n",
              "      <td>Estonia</td>\n",
              "      <td>24.053727</td>\n",
              "      <td>9.338822</td>\n",
              "      <td>14.714905</td>\n",
              "    </tr>\n",
              "    <tr>\n",
              "      <th>218</th>\n",
              "      <td>United Arab Emirates</td>\n",
              "      <td>28.277704</td>\n",
              "      <td>15.780727</td>\n",
              "      <td>12.496977</td>\n",
              "    </tr>\n",
              "    <tr>\n",
              "      <th>217</th>\n",
              "      <td>Ukraine</td>\n",
              "      <td>13.715264</td>\n",
              "      <td>5.059345</td>\n",
              "      <td>8.655919</td>\n",
              "    </tr>\n",
              "    <tr>\n",
              "      <th>50</th>\n",
              "      <td>Curacao</td>\n",
              "      <td>31.524622</td>\n",
              "      <td>23.013896</td>\n",
              "      <td>8.510725</td>\n",
              "    </tr>\n",
              "    <tr>\n",
              "      <th>143</th>\n",
              "      <td>Nauru</td>\n",
              "      <td>13.149590</td>\n",
              "      <td>5.295429</td>\n",
              "      <td>7.854161</td>\n",
              "    </tr>\n",
              "    <tr>\n",
              "      <th>135</th>\n",
              "      <td>Moldova</td>\n",
              "      <td>8.391589</td>\n",
              "      <td>1.275209</td>\n",
              "      <td>7.116379</td>\n",
              "    </tr>\n",
              "    <tr>\n",
              "      <th>186</th>\n",
              "      <td>Singapore</td>\n",
              "      <td>14.449539</td>\n",
              "      <td>7.874276</td>\n",
              "      <td>6.575263</td>\n",
              "    </tr>\n",
              "    <tr>\n",
              "      <th>52</th>\n",
              "      <td>Czechia</td>\n",
              "      <td>15.879021</td>\n",
              "      <td>9.431190</td>\n",
              "      <td>6.447831</td>\n",
              "    </tr>\n",
              "    <tr>\n",
              "      <th>24</th>\n",
              "      <td>Bonaire Sint Eustatius and Saba</td>\n",
              "      <td>18.985396</td>\n",
              "      <td>13.085479</td>\n",
              "      <td>5.899917</td>\n",
              "    </tr>\n",
              "    <tr>\n",
              "      <th>171</th>\n",
              "      <td>Russia</td>\n",
              "      <td>17.118493</td>\n",
              "      <td>11.513149</td>\n",
              "      <td>5.605344</td>\n",
              "    </tr>\n",
              "    <tr>\n",
              "      <th>188</th>\n",
              "      <td>Slovakia</td>\n",
              "      <td>11.624378</td>\n",
              "      <td>6.188918</td>\n",
              "      <td>5.435460</td>\n",
              "    </tr>\n",
              "    <tr>\n",
              "      <th>54</th>\n",
              "      <td>Denmark</td>\n",
              "      <td>10.420498</td>\n",
              "      <td>5.353025</td>\n",
              "      <td>5.067473</td>\n",
              "    </tr>\n",
              "    <tr>\n",
              "      <th>219</th>\n",
              "      <td>United Kingdom</td>\n",
              "      <td>10.507579</td>\n",
              "      <td>5.464373</td>\n",
              "      <td>5.043206</td>\n",
              "    </tr>\n",
              "    <tr>\n",
              "      <th>152</th>\n",
              "      <td>North Korea</td>\n",
              "      <td>6.031620</td>\n",
              "      <td>1.144659</td>\n",
              "      <td>4.886961</td>\n",
              "    </tr>\n",
              "  </tbody>\n",
              "</table>\n",
              "</div>"
            ],
            "text/plain": [
              "year                          country       1990       2019     change\n",
              "120                        Luxembourg  30.968097  15.838111  15.129986\n",
              "63                            Estonia  24.053727   9.338822  14.714905\n",
              "218              United Arab Emirates  28.277704  15.780727  12.496977\n",
              "217                           Ukraine  13.715264   5.059345   8.655919\n",
              "50                            Curacao  31.524622  23.013896   8.510725\n",
              "143                             Nauru  13.149590   5.295429   7.854161\n",
              "135                           Moldova   8.391589   1.275209   7.116379\n",
              "186                         Singapore  14.449539   7.874276   6.575263\n",
              "52                            Czechia  15.879021   9.431190   6.447831\n",
              "24    Bonaire Sint Eustatius and Saba  18.985396  13.085479   5.899917\n",
              "171                            Russia  17.118493  11.513149   5.605344\n",
              "188                          Slovakia  11.624378   6.188918   5.435460\n",
              "54                            Denmark  10.420498   5.353025   5.067473\n",
              "219                    United Kingdom  10.507579   5.464373   5.043206\n",
              "152                       North Korea   6.031620   1.144659   4.886961"
            ]
          },
          "execution_count": 16,
          "metadata": {},
          "output_type": "execute_result"
        }
      ],
      "source": [
        "# 2019 - 1990: positive value for decrease, negative value for increase\n",
        "df4['change'] = df4.iloc[:, 1] - df4.iloc[:, 2]\n",
        "df4.sort_values(by='change', ascending=False).iloc[:15]"
      ]
    },
    {
      "cell_type": "code",
      "execution_count": null,
      "metadata": {
        "colab": {
          "base_uri": "https://localhost:8080/",
          "height": 520
        },
        "id": "DTHJUWxKkGeI",
        "outputId": "cbea843f-82b5-4d1e-b9a9-5b508f1254ce"
      },
      "outputs": [
        {
          "data": {
            "text/html": [
              "<div>\n",
              "<style scoped>\n",
              "    .dataframe tbody tr th:only-of-type {\n",
              "        vertical-align: middle;\n",
              "    }\n",
              "\n",
              "    .dataframe tbody tr th {\n",
              "        vertical-align: top;\n",
              "    }\n",
              "\n",
              "    .dataframe thead th {\n",
              "        text-align: right;\n",
              "    }\n",
              "</style>\n",
              "<table border=\"1\" class=\"dataframe\">\n",
              "  <thead>\n",
              "    <tr style=\"text-align: right;\">\n",
              "      <th></th>\n",
              "      <th>country</th>\n",
              "      <th>_1999</th>\n",
              "      <th>_2019</th>\n",
              "      <th>change</th>\n",
              "    </tr>\n",
              "  </thead>\n",
              "  <tbody>\n",
              "    <tr>\n",
              "      <th>53</th>\n",
              "      <td>Democratic Republic of Congo</td>\n",
              "      <td>0.122761</td>\n",
              "      <td>0.030983</td>\n",
              "      <td>0.091778</td>\n",
              "    </tr>\n",
              "    <tr>\n",
              "      <th>191</th>\n",
              "      <td>Somalia</td>\n",
              "      <td>0.101175</td>\n",
              "      <td>0.043062</td>\n",
              "      <td>0.058113</td>\n",
              "    </tr>\n",
              "    <tr>\n",
              "      <th>37</th>\n",
              "      <td>Central African Republic</td>\n",
              "      <td>0.065200</td>\n",
              "      <td>0.044255</td>\n",
              "      <td>0.020945</td>\n",
              "    </tr>\n",
              "    <tr>\n",
              "      <th>32</th>\n",
              "      <td>Burundi</td>\n",
              "      <td>0.038426</td>\n",
              "      <td>0.061055</td>\n",
              "      <td>-0.022629</td>\n",
              "    </tr>\n",
              "    <tr>\n",
              "      <th>38</th>\n",
              "      <td>Chad</td>\n",
              "      <td>0.063221</td>\n",
              "      <td>0.063022</td>\n",
              "      <td>0.000199</td>\n",
              "    </tr>\n",
              "    <tr>\n",
              "      <th>149</th>\n",
              "      <td>Niger</td>\n",
              "      <td>0.075001</td>\n",
              "      <td>0.079491</td>\n",
              "      <td>-0.004491</td>\n",
              "    </tr>\n",
              "    <tr>\n",
              "      <th>123</th>\n",
              "      <td>Malawi</td>\n",
              "      <td>0.078686</td>\n",
              "      <td>0.085245</td>\n",
              "      <td>-0.006559</td>\n",
              "    </tr>\n",
              "    <tr>\n",
              "      <th>172</th>\n",
              "      <td>Rwanda</td>\n",
              "      <td>0.071890</td>\n",
              "      <td>0.094005</td>\n",
              "      <td>-0.022115</td>\n",
              "    </tr>\n",
              "    <tr>\n",
              "      <th>185</th>\n",
              "      <td>Sierra Leone</td>\n",
              "      <td>0.119682</td>\n",
              "      <td>0.122997</td>\n",
              "      <td>-0.003314</td>\n",
              "    </tr>\n",
              "    <tr>\n",
              "      <th>194</th>\n",
              "      <td>South Sudan</td>\n",
              "      <td>0.079015</td>\n",
              "      <td>0.126106</td>\n",
              "      <td>-0.047091</td>\n",
              "    </tr>\n",
              "    <tr>\n",
              "      <th>216</th>\n",
              "      <td>Uganda</td>\n",
              "      <td>0.043851</td>\n",
              "      <td>0.129231</td>\n",
              "      <td>-0.085380</td>\n",
              "    </tr>\n",
              "    <tr>\n",
              "      <th>65</th>\n",
              "      <td>Ethiopia</td>\n",
              "      <td>0.062375</td>\n",
              "      <td>0.146067</td>\n",
              "      <td>-0.083692</td>\n",
              "    </tr>\n",
              "    <tr>\n",
              "      <th>122</th>\n",
              "      <td>Madagascar</td>\n",
              "      <td>0.080182</td>\n",
              "      <td>0.150171</td>\n",
              "      <td>-0.069989</td>\n",
              "    </tr>\n",
              "    <tr>\n",
              "      <th>86</th>\n",
              "      <td>Guinea-Bissau</td>\n",
              "      <td>0.176362</td>\n",
              "      <td>0.163464</td>\n",
              "      <td>0.012899</td>\n",
              "    </tr>\n",
              "    <tr>\n",
              "      <th>126</th>\n",
              "      <td>Mali</td>\n",
              "      <td>0.049941</td>\n",
              "      <td>0.187608</td>\n",
              "      <td>-0.137667</td>\n",
              "    </tr>\n",
              "  </tbody>\n",
              "</table>\n",
              "</div>"
            ],
            "text/plain": [
              "                          country     _1999     _2019    change\n",
              "53   Democratic Republic of Congo  0.122761  0.030983  0.091778\n",
              "191                       Somalia  0.101175  0.043062  0.058113\n",
              "37       Central African Republic  0.065200  0.044255  0.020945\n",
              "32                        Burundi  0.038426  0.061055 -0.022629\n",
              "38                           Chad  0.063221  0.063022  0.000199\n",
              "149                         Niger  0.075001  0.079491 -0.004491\n",
              "123                        Malawi  0.078686  0.085245 -0.006559\n",
              "172                        Rwanda  0.071890  0.094005 -0.022115\n",
              "185                  Sierra Leone  0.119682  0.122997 -0.003314\n",
              "194                   South Sudan  0.079015  0.126106 -0.047091\n",
              "216                        Uganda  0.043851  0.129231 -0.085380\n",
              "65                       Ethiopia  0.062375  0.146067 -0.083692\n",
              "122                    Madagascar  0.080182  0.150171 -0.069989\n",
              "86                  Guinea-Bissau  0.176362  0.163464  0.012899\n",
              "126                          Mali  0.049941  0.187608 -0.137667"
            ]
          },
          "execution_count": 17,
          "metadata": {},
          "output_type": "execute_result"
        }
      ],
      "source": [
        "# countries with lowest relative production co2 emissions in 2019\n",
        "df4.columns = ['country', '_1999', '_2019', 'change']\n",
        "df4.sort_values(by='_2019', ascending=True).iloc[:15]"
      ]
    },
    {
      "cell_type": "markdown",
      "metadata": {
        "id": "uQP4HqCJlyAU"
      },
      "source": [
        "## Net-zero emissions target\n",
        "Countries are shown as having a net-zero emissions target if they have: achieved net-zero already; have it written in\n",
        "law; in their policy document or have made a public pledge. The year for which countries have pledged to achieve\n",
        "net-zero varies. [Our World in Data](https://ourworldindata.org/grapher/net-zero-target-set?country=SGP~NZL~CHN~GNB~ZWE~MYS~USA~CZE) Source: [Zero Tracker](https://www.zerotracker.net/methodology/)\n"
      ]
    },
    {
      "cell_type": "code",
      "execution_count": null,
      "metadata": {
        "id": "DB_gzo2Kw_Tj"
      },
      "outputs": [],
      "source": [
        "# 64 countries with net_zero target\n",
        "zero_target = pd.read_csv(os.path.join(path, 'net-zero-target-set.csv'))\n",
        "zero_target.columns = ['country', 'code', 'year', 'net_zero']\n",
        "zero_target.drop(columns=['code', 'year'], inplace=True)\n",
        "df5 = df2.merge(zero_target, how='left', on=['country'])\n",
        "df5.loc[df5['net_zero'] != 'Yes', 'net_zero'] = 'No'"
      ]
    },
    {
      "cell_type": "code",
      "execution_count": null,
      "metadata": {
        "colab": {
          "base_uri": "https://localhost:8080/"
        },
        "id": "4UlTabGv01LL",
        "outputId": "d07bd915-058a-4eed-960e-0dd3a59263e9"
      },
      "outputs": [
        {
          "data": {
            "text/plain": [
              "array(['Australia', 'Austria', 'Bahrain', 'Benin', 'Brazil', 'Cambodia',\n",
              "       'Canada', 'Chile', 'China', 'Costa Rica', 'Croatia', 'Denmark',\n",
              "       'Ecuador', 'Estonia', 'Finland', 'France', 'Germany', 'Greece',\n",
              "       'Hungary', 'India', 'Ireland', 'Israel', 'Italy', 'Japan',\n",
              "       'Kazakhstan', 'Latvia', 'Lithuania', 'Luxembourg', 'Madagascar',\n",
              "       'Malaysia', 'Malta', 'Nepal', 'New Zealand', 'Nigeria', 'Panama',\n",
              "       'Portugal', 'Romania', 'Russia', 'Saudi Arabia', 'Singapore',\n",
              "       'Slovenia', 'South Africa', 'South Korea', 'Spain', 'Sri Lanka',\n",
              "       'Sweden', 'Thailand', 'Turkey', 'Ukraine', 'United Arab Emirates',\n",
              "       'United Kingdom', 'United States', 'Uruguay', 'Vietnam'],\n",
              "      dtype=object)"
            ]
          },
          "execution_count": 19,
          "metadata": {},
          "output_type": "execute_result"
        }
      ],
      "source": [
        "df5.loc[df5['net_zero'] == 'Yes', 'country'].values"
      ]
    },
    {
      "cell_type": "code",
      "execution_count": null,
      "metadata": {
        "colab": {
          "base_uri": "https://localhost:8080/",
          "height": 487
        },
        "id": "88u0lJCWzej5",
        "outputId": "b04ab563-6987-4f73-ead1-20a643f6e8cc"
      },
      "outputs": [
        {
          "data": {
            "image/png": "[encoded data removed]",
            "text/plain": [
              "<Figure size 1080x576 with 1 Axes>"
            ]
          },
          "metadata": {
            "needs_background": "light"
          },
          "output_type": "display_data"
        }
      ],
      "source": [
        "fig, ax = plt.subplots(figsize=(15, 8))\n",
        "ax = sns.scatterplot(x='country', y='change', hue='net_zero', data=df5)\n",
        "ax.set_xticklabels('')\n",
        "plt.show()"
      ]
    },
    {
      "cell_type": "code",
      "execution_count": null,
      "metadata": {
        "colab": {
          "base_uri": "https://localhost:8080/",
          "height": 300
        },
        "id": "f-3b0N-X2xVH",
        "outputId": "9d052faf-02c6-4cc1-dcc3-aa48b17f8618"
      },
      "outputs": [
        {
          "data": {
            "text/html": [
              "<div>\n",
              "<style scoped>\n",
              "    .dataframe tbody tr th:only-of-type {\n",
              "        vertical-align: middle;\n",
              "    }\n",
              "\n",
              "    .dataframe tbody tr th {\n",
              "        vertical-align: top;\n",
              "    }\n",
              "\n",
              "    .dataframe thead th {\n",
              "        text-align: right;\n",
              "    }\n",
              "</style>\n",
              "<table border=\"1\" class=\"dataframe\">\n",
              "  <thead>\n",
              "    <tr style=\"text-align: right;\">\n",
              "      <th></th>\n",
              "      <th>_1999</th>\n",
              "      <th>_2019</th>\n",
              "      <th>change</th>\n",
              "    </tr>\n",
              "  </thead>\n",
              "  <tbody>\n",
              "    <tr>\n",
              "      <th>count</th>\n",
              "      <td>54.000000</td>\n",
              "      <td>54.000000</td>\n",
              "      <td>54.000000</td>\n",
              "    </tr>\n",
              "    <tr>\n",
              "      <th>mean</th>\n",
              "      <td>8.990653</td>\n",
              "      <td>8.110931</td>\n",
              "      <td>0.879722</td>\n",
              "    </tr>\n",
              "    <tr>\n",
              "      <th>std</th>\n",
              "      <td>7.656414</td>\n",
              "      <td>6.313052</td>\n",
              "      <td>3.778318</td>\n",
              "    </tr>\n",
              "    <tr>\n",
              "      <th>min</th>\n",
              "      <td>0.061146</td>\n",
              "      <td>0.196779</td>\n",
              "      <td>-6.897736</td>\n",
              "    </tr>\n",
              "    <tr>\n",
              "      <th>25%</th>\n",
              "      <td>2.011818</td>\n",
              "      <td>4.222914</td>\n",
              "      <td>-1.021227</td>\n",
              "    </tr>\n",
              "    <tr>\n",
              "      <th>50%</th>\n",
              "      <td>8.299554</td>\n",
              "      <td>6.761552</td>\n",
              "      <td>0.134953</td>\n",
              "    </tr>\n",
              "    <tr>\n",
              "      <th>75%</th>\n",
              "      <td>11.876569</td>\n",
              "      <td>10.211707</td>\n",
              "      <td>3.081456</td>\n",
              "    </tr>\n",
              "    <tr>\n",
              "      <th>max</th>\n",
              "      <td>30.968097</td>\n",
              "      <td>36.436425</td>\n",
              "      <td>11.843436</td>\n",
              "    </tr>\n",
              "  </tbody>\n",
              "</table>\n",
              "</div>"
            ],
            "text/plain": [
              "           _1999      _2019     change\n",
              "count  54.000000  54.000000  54.000000\n",
              "mean    8.990653   8.110931   0.879722\n",
              "std     7.656414   6.313052   3.778318\n",
              "min     0.061146   0.196779  -6.897736\n",
              "25%     2.011818   4.222914  -1.021227\n",
              "50%     8.299554   6.761552   0.134953\n",
              "75%    11.876569  10.211707   3.081456\n",
              "max    30.968097  36.436425  11.843436"
            ]
          },
          "execution_count": 21,
          "metadata": {},
          "output_type": "execute_result"
        }
      ],
      "source": [
        "df5.loc[df5['net_zero'] == 'Yes'].describe()"
      ]
    },
    {
      "cell_type": "code",
      "execution_count": null,
      "metadata": {
        "colab": {
          "base_uri": "https://localhost:8080/",
          "height": 300
        },
        "id": "fNMPoSnV28I_",
        "outputId": "e78efefb-4738-4843-df84-39ecb07b0176"
      },
      "outputs": [
        {
          "data": {
            "text/html": [
              "<div>\n",
              "<style scoped>\n",
              "    .dataframe tbody tr th:only-of-type {\n",
              "        vertical-align: middle;\n",
              "    }\n",
              "\n",
              "    .dataframe tbody tr th {\n",
              "        vertical-align: top;\n",
              "    }\n",
              "\n",
              "    .dataframe thead th {\n",
              "        text-align: right;\n",
              "    }\n",
              "</style>\n",
              "<table border=\"1\" class=\"dataframe\">\n",
              "  <thead>\n",
              "    <tr style=\"text-align: right;\">\n",
              "      <th></th>\n",
              "      <th>_1999</th>\n",
              "      <th>_2019</th>\n",
              "      <th>change</th>\n",
              "    </tr>\n",
              "  </thead>\n",
              "  <tbody>\n",
              "    <tr>\n",
              "      <th>count</th>\n",
              "      <td>64.000000</td>\n",
              "      <td>64.000000</td>\n",
              "      <td>64.000000</td>\n",
              "    </tr>\n",
              "    <tr>\n",
              "      <th>mean</th>\n",
              "      <td>4.320042</td>\n",
              "      <td>5.226370</td>\n",
              "      <td>-0.906328</td>\n",
              "    </tr>\n",
              "    <tr>\n",
              "      <th>std</th>\n",
              "      <td>5.524646</td>\n",
              "      <td>6.498377</td>\n",
              "      <td>3.402949</td>\n",
              "    </tr>\n",
              "    <tr>\n",
              "      <th>min</th>\n",
              "      <td>0.071890</td>\n",
              "      <td>0.094005</td>\n",
              "      <td>-18.623711</td>\n",
              "    </tr>\n",
              "    <tr>\n",
              "      <th>25%</th>\n",
              "      <td>0.486082</td>\n",
              "      <td>0.878775</td>\n",
              "      <td>-0.806170</td>\n",
              "    </tr>\n",
              "    <tr>\n",
              "      <th>50%</th>\n",
              "      <td>1.704986</td>\n",
              "      <td>2.452998</td>\n",
              "      <td>-0.331758</td>\n",
              "    </tr>\n",
              "    <tr>\n",
              "      <th>75%</th>\n",
              "      <td>6.166484</td>\n",
              "      <td>7.560201</td>\n",
              "      <td>-0.021003</td>\n",
              "    </tr>\n",
              "    <tr>\n",
              "      <th>max</th>\n",
              "      <td>22.545798</td>\n",
              "      <td>27.081242</td>\n",
              "      <td>5.301728</td>\n",
              "    </tr>\n",
              "  </tbody>\n",
              "</table>\n",
              "</div>"
            ],
            "text/plain": [
              "           _1999      _2019     change\n",
              "count  64.000000  64.000000  64.000000\n",
              "mean    4.320042   5.226370  -0.906328\n",
              "std     5.524646   6.498377   3.402949\n",
              "min     0.071890   0.094005 -18.623711\n",
              "25%     0.486082   0.878775  -0.806170\n",
              "50%     1.704986   2.452998  -0.331758\n",
              "75%     6.166484   7.560201  -0.021003\n",
              "max    22.545798  27.081242   5.301728"
            ]
          },
          "execution_count": 22,
          "metadata": {},
          "output_type": "execute_result"
        }
      ],
      "source": [
        "df5.loc[df5['net_zero'] == 'No'].describe()"
      ]
    },
    {
      "cell_type": "code",
      "execution_count": null,
      "metadata": {
        "colab": {
          "base_uri": "https://localhost:8080/",
          "height": 513
        },
        "id": "r7oLq_g43mLl",
        "outputId": "f800efbc-7cf9-479e-cf35-1b5aab62436f"
      },
      "outputs": [
        {
          "data": {
            "image/png": "[encoded data removed]",
            "text/plain": [
              "<Figure size 720x576 with 1 Axes>"
            ]
          },
          "metadata": {
            "needs_background": "light"
          },
          "output_type": "display_data"
        }
      ],
      "source": [
        "x1 = df5.loc[df5['net_zero'] == 'Yes', 'change']\n",
        "x2 = df5.loc[df5['net_zero'] == 'No', 'change']\n",
        "fig, ax = plt.subplots(figsize=(10,8))\n",
        "ax.hist(x2, alpha=0.5, label='no target')\n",
        "ax.hist(x1, alpha=0.7, label='net-zero target')\n",
        "ax.set(xlabel='change in relative co2', ylabel='num of countries', title='change in consumption co2 emissions, 2019 vs 1990')\n",
        "ax.legend()\n",
        "plt.show()"
      ]
    },
    {
      "cell_type": "code",
      "execution_count": null,
      "metadata": {
        "id": "7S2_00fS7W2M",
        "outputId": "06706e87-bb40-4993-efdf-91b087418cd0"
      },
      "outputs": [
        {
          "data": {
            "text/plain": [
              "0.9019783191078192"
            ]
          },
          "metadata": {},
          "output_type": "display_data"
        },
        {
          "data": {
            "text/plain": [
              "14.011324818299796"
            ]
          },
          "metadata": {},
          "output_type": "display_data"
        },
        {
          "data": {
            "text/plain": [
              "11.399121908501225"
            ]
          },
          "metadata": {},
          "output_type": "display_data"
        },
        {
          "data": {
            "text/plain": [
              "0.00796141839738773"
            ]
          },
          "execution_count": 24,
          "metadata": {},
          "output_type": "execute_result"
        }
      ],
      "source": [
        "x1 = df5.loc[df5['net_zero'] == 'Yes', 'change']\n",
        "x2 = df5.loc[df5['net_zero'] == 'No', 'change']\n",
        "display(np.std(x2)/np.std(x1))\n",
        "display(np.var(x1), np.var(x2))\n",
        "\n",
        "tstat, pval = ttest_ind(x1, x2)\n",
        "pval"
      ]
    },
    {
      "cell_type": "code",
      "execution_count": null,
      "metadata": {
        "colab": {
          "base_uri": "https://localhost:8080/",
          "height": 520
        },
        "id": "s8HZxVk69oWZ",
        "outputId": "a129fd90-86fc-49e4-9056-69fdef684392"
      },
      "outputs": [
        {
          "data": {
            "text/html": [
              "<div>\n",
              "<style scoped>\n",
              "    .dataframe tbody tr th:only-of-type {\n",
              "        vertical-align: middle;\n",
              "    }\n",
              "\n",
              "    .dataframe tbody tr th {\n",
              "        vertical-align: top;\n",
              "    }\n",
              "\n",
              "    .dataframe thead th {\n",
              "        text-align: right;\n",
              "    }\n",
              "</style>\n",
              "<table border=\"1\" class=\"dataframe\">\n",
              "  <thead>\n",
              "    <tr style=\"text-align: right;\">\n",
              "      <th></th>\n",
              "      <th>country</th>\n",
              "      <th>_1999</th>\n",
              "      <th>_2019</th>\n",
              "      <th>change</th>\n",
              "      <th>net_zero</th>\n",
              "    </tr>\n",
              "  </thead>\n",
              "  <tbody>\n",
              "    <tr>\n",
              "      <th>6</th>\n",
              "      <td>Bahrain</td>\n",
              "      <td>23.392556</td>\n",
              "      <td>11.549120</td>\n",
              "      <td>11.843436</td>\n",
              "      <td>Yes</td>\n",
              "    </tr>\n",
              "    <tr>\n",
              "      <th>110</th>\n",
              "      <td>United Arab Emirates</td>\n",
              "      <td>30.706554</td>\n",
              "      <td>20.650168</td>\n",
              "      <td>10.056387</td>\n",
              "      <td>Yes</td>\n",
              "    </tr>\n",
              "    <tr>\n",
              "      <th>33</th>\n",
              "      <td>Estonia</td>\n",
              "      <td>20.256880</td>\n",
              "      <td>11.257882</td>\n",
              "      <td>8.998998</td>\n",
              "      <td>Yes</td>\n",
              "    </tr>\n",
              "    <tr>\n",
              "      <th>56</th>\n",
              "      <td>Kazakhstan</td>\n",
              "      <td>17.775886</td>\n",
              "      <td>12.322663</td>\n",
              "      <td>5.453223</td>\n",
              "      <td>Yes</td>\n",
              "    </tr>\n",
              "    <tr>\n",
              "      <th>93</th>\n",
              "      <td>Slovakia</td>\n",
              "      <td>13.731799</td>\n",
              "      <td>8.430071</td>\n",
              "      <td>5.301728</td>\n",
              "      <td>No</td>\n",
              "    </tr>\n",
              "    <tr>\n",
              "      <th>39</th>\n",
              "      <td>Germany</td>\n",
              "      <td>15.049855</td>\n",
              "      <td>9.875110</td>\n",
              "      <td>5.174745</td>\n",
              "      <td>Yes</td>\n",
              "    </tr>\n",
              "    <tr>\n",
              "      <th>109</th>\n",
              "      <td>Ukraine</td>\n",
              "      <td>9.825856</td>\n",
              "      <td>4.875773</td>\n",
              "      <td>4.950083</td>\n",
              "      <td>Yes</td>\n",
              "    </tr>\n",
              "    <tr>\n",
              "      <th>27</th>\n",
              "      <td>Czechia</td>\n",
              "      <td>14.586771</td>\n",
              "      <td>9.683968</td>\n",
              "      <td>4.902802</td>\n",
              "      <td>No</td>\n",
              "    </tr>\n",
              "    <tr>\n",
              "      <th>36</th>\n",
              "      <td>Finland</td>\n",
              "      <td>16.054938</td>\n",
              "      <td>11.290529</td>\n",
              "      <td>4.764409</td>\n",
              "      <td>Yes</td>\n",
              "    </tr>\n",
              "    <tr>\n",
              "      <th>74</th>\n",
              "      <td>Netherlands</td>\n",
              "      <td>13.410095</td>\n",
              "      <td>8.653269</td>\n",
              "      <td>4.756826</td>\n",
              "      <td>No</td>\n",
              "    </tr>\n",
              "    <tr>\n",
              "      <th>92</th>\n",
              "      <td>Singapore</td>\n",
              "      <td>23.710175</td>\n",
              "      <td>19.110173</td>\n",
              "      <td>4.600002</td>\n",
              "      <td>Yes</td>\n",
              "    </tr>\n",
              "    <tr>\n",
              "      <th>41</th>\n",
              "      <td>Greece</td>\n",
              "      <td>9.395472</td>\n",
              "      <td>5.132405</td>\n",
              "      <td>4.263066</td>\n",
              "      <td>Yes</td>\n",
              "    </tr>\n",
              "    <tr>\n",
              "      <th>88</th>\n",
              "      <td>Russia</td>\n",
              "      <td>13.829393</td>\n",
              "      <td>9.821627</td>\n",
              "      <td>4.007766</td>\n",
              "      <td>Yes</td>\n",
              "    </tr>\n",
              "    <tr>\n",
              "      <th>111</th>\n",
              "      <td>United Kingdom</td>\n",
              "      <td>11.699104</td>\n",
              "      <td>7.710570</td>\n",
              "      <td>3.988534</td>\n",
              "      <td>Yes</td>\n",
              "    </tr>\n",
              "    <tr>\n",
              "      <th>28</th>\n",
              "      <td>Denmark</td>\n",
              "      <td>12.001477</td>\n",
              "      <td>8.272006</td>\n",
              "      <td>3.729472</td>\n",
              "      <td>Yes</td>\n",
              "    </tr>\n",
              "  </tbody>\n",
              "</table>\n",
              "</div>"
            ],
            "text/plain": [
              "                  country      _1999      _2019     change net_zero\n",
              "6                 Bahrain  23.392556  11.549120  11.843436      Yes\n",
              "110  United Arab Emirates  30.706554  20.650168  10.056387      Yes\n",
              "33                Estonia  20.256880  11.257882   8.998998      Yes\n",
              "56             Kazakhstan  17.775886  12.322663   5.453223      Yes\n",
              "93               Slovakia  13.731799   8.430071   5.301728       No\n",
              "39                Germany  15.049855   9.875110   5.174745      Yes\n",
              "109               Ukraine   9.825856   4.875773   4.950083      Yes\n",
              "27                Czechia  14.586771   9.683968   4.902802       No\n",
              "36                Finland  16.054938  11.290529   4.764409      Yes\n",
              "74            Netherlands  13.410095   8.653269   4.756826       No\n",
              "92              Singapore  23.710175  19.110173   4.600002      Yes\n",
              "41                 Greece   9.395472   5.132405   4.263066      Yes\n",
              "88                 Russia  13.829393   9.821627   4.007766      Yes\n",
              "111        United Kingdom  11.699104   7.710570   3.988534      Yes\n",
              "28                Denmark  12.001477   8.272006   3.729472      Yes"
            ]
          },
          "execution_count": 25,
          "metadata": {},
          "output_type": "execute_result"
        }
      ],
      "source": [
        "# 1990-2019, net-zero target\n",
        "df5.sort_values(by='change', ascending=False).iloc[:15]"
      ]
    },
    {
      "cell_type": "code",
      "execution_count": null,
      "metadata": {
        "id": "3adAEmyR-tVM"
      },
      "outputs": [],
      "source": [
        "# 2005-2019, net-zero target\n",
        "df6 = df6.merge(zero_target, how='left', on=['country'])\n",
        "df6.loc[df6['net_zero'] != 'Yes', 'net_zero'] = 'No'"
      ]
    },
    {
      "cell_type": "code",
      "execution_count": null,
      "metadata": {
        "id": "Bh88Gp0m7W2N",
        "outputId": "41d89e7d-34cd-4746-d838-d57e321cd764"
      },
      "outputs": [
        {
          "data": {
            "image/png": "[encoded data removed]",
            "text/plain": [
              "<Figure size 1080x576 with 1 Axes>"
            ]
          },
          "metadata": {
            "needs_background": "light"
          },
          "output_type": "display_data"
        }
      ],
      "source": [
        "fig, ax = plt.subplots(figsize=(15, 8))\n",
        "ax = sns.scatterplot(x='country', y='change', hue='net_zero', data=df6)\n",
        "ax.set_xticklabels('')\n",
        "plt.show()"
      ]
    },
    {
      "cell_type": "code",
      "execution_count": null,
      "metadata": {
        "id": "o2Hvvqoe7W2O",
        "outputId": "16632d60-947a-441b-e9df-1a50cd8dd688"
      },
      "outputs": [
        {
          "data": {
            "text/html": [
              "<div>\n",
              "<style scoped>\n",
              "    .dataframe tbody tr th:only-of-type {\n",
              "        vertical-align: middle;\n",
              "    }\n",
              "\n",
              "    .dataframe tbody tr th {\n",
              "        vertical-align: top;\n",
              "    }\n",
              "\n",
              "    .dataframe thead th {\n",
              "        text-align: right;\n",
              "    }\n",
              "</style>\n",
              "<table border=\"1\" class=\"dataframe\">\n",
              "  <thead>\n",
              "    <tr style=\"text-align: right;\">\n",
              "      <th></th>\n",
              "      <th>2005</th>\n",
              "      <th>2019</th>\n",
              "      <th>change</th>\n",
              "    </tr>\n",
              "  </thead>\n",
              "  <tbody>\n",
              "    <tr>\n",
              "      <th>count</th>\n",
              "      <td>53.000000</td>\n",
              "      <td>53.000000</td>\n",
              "      <td>53.000000</td>\n",
              "    </tr>\n",
              "    <tr>\n",
              "      <th>mean</th>\n",
              "      <td>9.457985</td>\n",
              "      <td>8.155517</td>\n",
              "      <td>1.302467</td>\n",
              "    </tr>\n",
              "    <tr>\n",
              "      <th>std</th>\n",
              "      <td>7.939093</td>\n",
              "      <td>6.364876</td>\n",
              "      <td>3.540411</td>\n",
              "    </tr>\n",
              "    <tr>\n",
              "      <th>min</th>\n",
              "      <td>0.177164</td>\n",
              "      <td>0.196779</td>\n",
              "      <td>-4.639846</td>\n",
              "    </tr>\n",
              "    <tr>\n",
              "      <th>25%</th>\n",
              "      <td>3.572443</td>\n",
              "      <td>4.037596</td>\n",
              "      <td>-0.770244</td>\n",
              "    </tr>\n",
              "    <tr>\n",
              "      <th>50%</th>\n",
              "      <td>8.652894</td>\n",
              "      <td>6.764284</td>\n",
              "      <td>0.553492</td>\n",
              "    </tr>\n",
              "    <tr>\n",
              "      <th>75%</th>\n",
              "      <td>12.405885</td>\n",
              "      <td>10.231144</td>\n",
              "      <td>2.788715</td>\n",
              "    </tr>\n",
              "    <tr>\n",
              "      <th>max</th>\n",
              "      <td>35.739552</td>\n",
              "      <td>36.436425</td>\n",
              "      <td>15.089385</td>\n",
              "    </tr>\n",
              "  </tbody>\n",
              "</table>\n",
              "</div>"
            ],
            "text/plain": [
              "            2005       2019     change\n",
              "count  53.000000  53.000000  53.000000\n",
              "mean    9.457985   8.155517   1.302467\n",
              "std     7.939093   6.364876   3.540411\n",
              "min     0.177164   0.196779  -4.639846\n",
              "25%     3.572443   4.037596  -0.770244\n",
              "50%     8.652894   6.764284   0.553492\n",
              "75%    12.405885  10.231144   2.788715\n",
              "max    35.739552  36.436425  15.089385"
            ]
          },
          "execution_count": 28,
          "metadata": {},
          "output_type": "execute_result"
        }
      ],
      "source": [
        "df6.loc[df6['net_zero'] == 'Yes'].describe()"
      ]
    },
    {
      "cell_type": "code",
      "execution_count": null,
      "metadata": {
        "id": "2JjIAnv67W2O",
        "outputId": "17a0d873-570a-4efe-b6fe-0bde413c027d"
      },
      "outputs": [
        {
          "data": {
            "text/html": [
              "<div>\n",
              "<style scoped>\n",
              "    .dataframe tbody tr th:only-of-type {\n",
              "        vertical-align: middle;\n",
              "    }\n",
              "\n",
              "    .dataframe tbody tr th {\n",
              "        vertical-align: top;\n",
              "    }\n",
              "\n",
              "    .dataframe thead th {\n",
              "        text-align: right;\n",
              "    }\n",
              "</style>\n",
              "<table border=\"1\" class=\"dataframe\">\n",
              "  <thead>\n",
              "    <tr style=\"text-align: right;\">\n",
              "      <th></th>\n",
              "      <th>2005</th>\n",
              "      <th>2019</th>\n",
              "      <th>change</th>\n",
              "    </tr>\n",
              "  </thead>\n",
              "  <tbody>\n",
              "    <tr>\n",
              "      <th>count</th>\n",
              "      <td>66.000000</td>\n",
              "      <td>66.000000</td>\n",
              "      <td>66.000000</td>\n",
              "    </tr>\n",
              "    <tr>\n",
              "      <th>mean</th>\n",
              "      <td>4.789905</td>\n",
              "      <td>5.258680</td>\n",
              "      <td>-0.468775</td>\n",
              "    </tr>\n",
              "    <tr>\n",
              "      <th>std</th>\n",
              "      <td>6.364601</td>\n",
              "      <td>6.417168</td>\n",
              "      <td>3.295548</td>\n",
              "    </tr>\n",
              "    <tr>\n",
              "      <th>min</th>\n",
              "      <td>0.058143</td>\n",
              "      <td>0.094005</td>\n",
              "      <td>-19.301749</td>\n",
              "    </tr>\n",
              "    <tr>\n",
              "      <th>25%</th>\n",
              "      <td>0.687011</td>\n",
              "      <td>0.915068</td>\n",
              "      <td>-0.434268</td>\n",
              "    </tr>\n",
              "    <tr>\n",
              "      <th>50%</th>\n",
              "      <td>1.841183</td>\n",
              "      <td>2.548113</td>\n",
              "      <td>-0.157074</td>\n",
              "    </tr>\n",
              "    <tr>\n",
              "      <th>75%</th>\n",
              "      <td>6.274509</td>\n",
              "      <td>7.727916</td>\n",
              "      <td>0.045025</td>\n",
              "    </tr>\n",
              "    <tr>\n",
              "      <th>max</th>\n",
              "      <td>32.906946</td>\n",
              "      <td>27.081242</td>\n",
              "      <td>5.825704</td>\n",
              "    </tr>\n",
              "  </tbody>\n",
              "</table>\n",
              "</div>"
            ],
            "text/plain": [
              "            2005       2019     change\n",
              "count  66.000000  66.000000  66.000000\n",
              "mean    4.789905   5.258680  -0.468775\n",
              "std     6.364601   6.417168   3.295548\n",
              "min     0.058143   0.094005 -19.301749\n",
              "25%     0.687011   0.915068  -0.434268\n",
              "50%     1.841183   2.548113  -0.157074\n",
              "75%     6.274509   7.727916   0.045025\n",
              "max    32.906946  27.081242   5.825704"
            ]
          },
          "execution_count": 29,
          "metadata": {},
          "output_type": "execute_result"
        }
      ],
      "source": [
        "df6.loc[df6['net_zero'] == 'No'].describe()"
      ]
    },
    {
      "cell_type": "code",
      "execution_count": null,
      "metadata": {
        "colab": {
          "base_uri": "https://localhost:8080/",
          "height": 520
        },
        "id": "j0wmWm-T--9l",
        "outputId": "4b55d643-dff4-45a3-8ec4-65221e86002c"
      },
      "outputs": [
        {
          "data": {
            "text/html": [
              "<div>\n",
              "<style scoped>\n",
              "    .dataframe tbody tr th:only-of-type {\n",
              "        vertical-align: middle;\n",
              "    }\n",
              "\n",
              "    .dataframe tbody tr th {\n",
              "        vertical-align: top;\n",
              "    }\n",
              "\n",
              "    .dataframe thead th {\n",
              "        text-align: right;\n",
              "    }\n",
              "</style>\n",
              "<table border=\"1\" class=\"dataframe\">\n",
              "  <thead>\n",
              "    <tr style=\"text-align: right;\">\n",
              "      <th></th>\n",
              "      <th>country</th>\n",
              "      <th>2005</th>\n",
              "      <th>2019</th>\n",
              "      <th>change</th>\n",
              "      <th>net_zero</th>\n",
              "    </tr>\n",
              "  </thead>\n",
              "  <tbody>\n",
              "    <tr>\n",
              "      <th>111</th>\n",
              "      <td>United Arab Emirates</td>\n",
              "      <td>35.739552</td>\n",
              "      <td>20.650168</td>\n",
              "      <td>15.089385</td>\n",
              "      <td>Yes</td>\n",
              "    </tr>\n",
              "    <tr>\n",
              "      <th>93</th>\n",
              "      <td>Singapore</td>\n",
              "      <td>32.195238</td>\n",
              "      <td>19.110173</td>\n",
              "      <td>13.085064</td>\n",
              "      <td>Yes</td>\n",
              "    </tr>\n",
              "    <tr>\n",
              "      <th>50</th>\n",
              "      <td>Ireland</td>\n",
              "      <td>17.098834</td>\n",
              "      <td>8.445472</td>\n",
              "      <td>8.653362</td>\n",
              "      <td>Yes</td>\n",
              "    </tr>\n",
              "    <tr>\n",
              "      <th>87</th>\n",
              "      <td>Qatar</td>\n",
              "      <td>32.906946</td>\n",
              "      <td>27.081242</td>\n",
              "      <td>5.825704</td>\n",
              "      <td>No</td>\n",
              "    </tr>\n",
              "    <tr>\n",
              "      <th>9</th>\n",
              "      <td>Belgium</td>\n",
              "      <td>20.293480</td>\n",
              "      <td>14.865513</td>\n",
              "      <td>5.427967</td>\n",
              "      <td>No</td>\n",
              "    </tr>\n",
              "    <tr>\n",
              "      <th>113</th>\n",
              "      <td>United States</td>\n",
              "      <td>22.360743</td>\n",
              "      <td>17.096274</td>\n",
              "      <td>5.264469</td>\n",
              "      <td>Yes</td>\n",
              "    </tr>\n",
              "    <tr>\n",
              "      <th>112</th>\n",
              "      <td>United Kingdom</td>\n",
              "      <td>12.052939</td>\n",
              "      <td>7.710570</td>\n",
              "      <td>4.342369</td>\n",
              "      <td>Yes</td>\n",
              "    </tr>\n",
              "    <tr>\n",
              "      <th>58</th>\n",
              "      <td>Kuwait</td>\n",
              "      <td>25.551538</td>\n",
              "      <td>21.318602</td>\n",
              "      <td>4.232936</td>\n",
              "      <td>No</td>\n",
              "    </tr>\n",
              "    <tr>\n",
              "      <th>36</th>\n",
              "      <td>Finland</td>\n",
              "      <td>15.517787</td>\n",
              "      <td>11.290529</td>\n",
              "      <td>4.227258</td>\n",
              "      <td>Yes</td>\n",
              "    </tr>\n",
              "    <tr>\n",
              "      <th>28</th>\n",
              "      <td>Denmark</td>\n",
              "      <td>12.405885</td>\n",
              "      <td>8.272006</td>\n",
              "      <td>4.133879</td>\n",
              "      <td>Yes</td>\n",
              "    </tr>\n",
              "    <tr>\n",
              "      <th>98</th>\n",
              "      <td>Spain</td>\n",
              "      <td>9.466478</td>\n",
              "      <td>5.830440</td>\n",
              "      <td>3.636038</td>\n",
              "      <td>Yes</td>\n",
              "    </tr>\n",
              "    <tr>\n",
              "      <th>41</th>\n",
              "      <td>Greece</td>\n",
              "      <td>8.652894</td>\n",
              "      <td>5.132405</td>\n",
              "      <td>3.520488</td>\n",
              "      <td>Yes</td>\n",
              "    </tr>\n",
              "    <tr>\n",
              "      <th>52</th>\n",
              "      <td>Italy</td>\n",
              "      <td>10.512668</td>\n",
              "      <td>7.434274</td>\n",
              "      <td>3.078394</td>\n",
              "      <td>Yes</td>\n",
              "    </tr>\n",
              "    <tr>\n",
              "      <th>75</th>\n",
              "      <td>Netherlands</td>\n",
              "      <td>11.722259</td>\n",
              "      <td>8.653269</td>\n",
              "      <td>3.068990</td>\n",
              "      <td>No</td>\n",
              "    </tr>\n",
              "    <tr>\n",
              "      <th>39</th>\n",
              "      <td>Germany</td>\n",
              "      <td>12.866982</td>\n",
              "      <td>9.875110</td>\n",
              "      <td>2.991873</td>\n",
              "      <td>Yes</td>\n",
              "    </tr>\n",
              "  </tbody>\n",
              "</table>\n",
              "</div>"
            ],
            "text/plain": [
              "                  country       2005       2019     change net_zero\n",
              "111  United Arab Emirates  35.739552  20.650168  15.089385      Yes\n",
              "93              Singapore  32.195238  19.110173  13.085064      Yes\n",
              "50                Ireland  17.098834   8.445472   8.653362      Yes\n",
              "87                  Qatar  32.906946  27.081242   5.825704       No\n",
              "9                 Belgium  20.293480  14.865513   5.427967       No\n",
              "113         United States  22.360743  17.096274   5.264469      Yes\n",
              "112        United Kingdom  12.052939   7.710570   4.342369      Yes\n",
              "58                 Kuwait  25.551538  21.318602   4.232936       No\n",
              "36                Finland  15.517787  11.290529   4.227258      Yes\n",
              "28                Denmark  12.405885   8.272006   4.133879      Yes\n",
              "98                  Spain   9.466478   5.830440   3.636038      Yes\n",
              "41                 Greece   8.652894   5.132405   3.520488      Yes\n",
              "52                  Italy  10.512668   7.434274   3.078394      Yes\n",
              "75            Netherlands  11.722259   8.653269   3.068990       No\n",
              "39                Germany  12.866982   9.875110   2.991873      Yes"
            ]
          },
          "execution_count": 30,
          "metadata": {},
          "output_type": "execute_result"
        }
      ],
      "source": [
        "df6.sort_values(by='change', ascending=False).iloc[:15]"
      ]
    },
    {
      "cell_type": "code",
      "execution_count": null,
      "metadata": {
        "colab": {
          "base_uri": "https://localhost:8080/",
          "height": 520
        },
        "outputId": "4b55d643-dff4-45a3-8ec4-65221e86002c",
        "id": "g89dtmnD7W2P"
      },
      "outputs": [
        {
          "data": {
            "text/html": [
              "<div>\n",
              "<style scoped>\n",
              "    .dataframe tbody tr th:only-of-type {\n",
              "        vertical-align: middle;\n",
              "    }\n",
              "\n",
              "    .dataframe tbody tr th {\n",
              "        vertical-align: top;\n",
              "    }\n",
              "\n",
              "    .dataframe thead th {\n",
              "        text-align: right;\n",
              "    }\n",
              "</style>\n",
              "<table border=\"1\" class=\"dataframe\">\n",
              "  <thead>\n",
              "    <tr style=\"text-align: right;\">\n",
              "      <th></th>\n",
              "      <th>country</th>\n",
              "      <th>2005</th>\n",
              "      <th>2019</th>\n",
              "      <th>change</th>\n",
              "      <th>net_zero</th>\n",
              "    </tr>\n",
              "  </thead>\n",
              "  <tbody>\n",
              "    <tr>\n",
              "      <th>63</th>\n",
              "      <td>Luxembourg</td>\n",
              "      <td>31.796579</td>\n",
              "      <td>36.436425</td>\n",
              "      <td>-4.639846</td>\n",
              "      <td>Yes</td>\n",
              "    </tr>\n",
              "    <tr>\n",
              "      <th>87</th>\n",
              "      <td>Qatar</td>\n",
              "      <td>32.906946</td>\n",
              "      <td>27.081242</td>\n",
              "      <td>5.825704</td>\n",
              "      <td>No</td>\n",
              "    </tr>\n",
              "    <tr>\n",
              "      <th>14</th>\n",
              "      <td>Brunei</td>\n",
              "      <td>11.473192</td>\n",
              "      <td>23.002751</td>\n",
              "      <td>-11.529559</td>\n",
              "      <td>No</td>\n",
              "    </tr>\n",
              "    <tr>\n",
              "      <th>70</th>\n",
              "      <td>Mongolia</td>\n",
              "      <td>3.447158</td>\n",
              "      <td>22.748907</td>\n",
              "      <td>-19.301749</td>\n",
              "      <td>No</td>\n",
              "    </tr>\n",
              "    <tr>\n",
              "      <th>106</th>\n",
              "      <td>Trinidad and Tobago</td>\n",
              "      <td>14.284645</td>\n",
              "      <td>21.681485</td>\n",
              "      <td>-7.396840</td>\n",
              "      <td>No</td>\n",
              "    </tr>\n",
              "    <tr>\n",
              "      <th>58</th>\n",
              "      <td>Kuwait</td>\n",
              "      <td>25.551538</td>\n",
              "      <td>21.318602</td>\n",
              "      <td>4.232936</td>\n",
              "      <td>No</td>\n",
              "    </tr>\n",
              "    <tr>\n",
              "      <th>111</th>\n",
              "      <td>United Arab Emirates</td>\n",
              "      <td>35.739552</td>\n",
              "      <td>20.650168</td>\n",
              "      <td>15.089385</td>\n",
              "      <td>Yes</td>\n",
              "    </tr>\n",
              "    <tr>\n",
              "      <th>93</th>\n",
              "      <td>Singapore</td>\n",
              "      <td>32.195238</td>\n",
              "      <td>19.110173</td>\n",
              "      <td>13.085064</td>\n",
              "      <td>Yes</td>\n",
              "    </tr>\n",
              "    <tr>\n",
              "      <th>91</th>\n",
              "      <td>Saudi Arabia</td>\n",
              "      <td>15.053257</td>\n",
              "      <td>18.833461</td>\n",
              "      <td>-3.780204</td>\n",
              "      <td>Yes</td>\n",
              "    </tr>\n",
              "    <tr>\n",
              "      <th>113</th>\n",
              "      <td>United States</td>\n",
              "      <td>22.360743</td>\n",
              "      <td>17.096274</td>\n",
              "      <td>5.264469</td>\n",
              "      <td>Yes</td>\n",
              "    </tr>\n",
              "    <tr>\n",
              "      <th>19</th>\n",
              "      <td>Canada</td>\n",
              "      <td>17.921757</td>\n",
              "      <td>15.380648</td>\n",
              "      <td>2.541109</td>\n",
              "      <td>Yes</td>\n",
              "    </tr>\n",
              "    <tr>\n",
              "      <th>3</th>\n",
              "      <td>Australia</td>\n",
              "      <td>16.979026</td>\n",
              "      <td>14.897196</td>\n",
              "      <td>2.081830</td>\n",
              "      <td>Yes</td>\n",
              "    </tr>\n",
              "    <tr>\n",
              "      <th>9</th>\n",
              "      <td>Belgium</td>\n",
              "      <td>20.293480</td>\n",
              "      <td>14.865513</td>\n",
              "      <td>5.427967</td>\n",
              "      <td>No</td>\n",
              "    </tr>\n",
              "    <tr>\n",
              "      <th>45</th>\n",
              "      <td>Hong Kong</td>\n",
              "      <td>14.387158</td>\n",
              "      <td>14.554157</td>\n",
              "      <td>-0.167000</td>\n",
              "      <td>No</td>\n",
              "    </tr>\n",
              "    <tr>\n",
              "      <th>97</th>\n",
              "      <td>South Korea</td>\n",
              "      <td>11.801712</td>\n",
              "      <td>13.614458</td>\n",
              "      <td>-1.812746</td>\n",
              "      <td>Yes</td>\n",
              "    </tr>\n",
              "  </tbody>\n",
              "</table>\n",
              "</div>"
            ],
            "text/plain": [
              "                  country       2005       2019     change net_zero\n",
              "63             Luxembourg  31.796579  36.436425  -4.639846      Yes\n",
              "87                  Qatar  32.906946  27.081242   5.825704       No\n",
              "14                 Brunei  11.473192  23.002751 -11.529559       No\n",
              "70               Mongolia   3.447158  22.748907 -19.301749       No\n",
              "106   Trinidad and Tobago  14.284645  21.681485  -7.396840       No\n",
              "58                 Kuwait  25.551538  21.318602   4.232936       No\n",
              "111  United Arab Emirates  35.739552  20.650168  15.089385      Yes\n",
              "93              Singapore  32.195238  19.110173  13.085064      Yes\n",
              "91           Saudi Arabia  15.053257  18.833461  -3.780204      Yes\n",
              "113         United States  22.360743  17.096274   5.264469      Yes\n",
              "19                 Canada  17.921757  15.380648   2.541109      Yes\n",
              "3               Australia  16.979026  14.897196   2.081830      Yes\n",
              "9                 Belgium  20.293480  14.865513   5.427967       No\n",
              "45              Hong Kong  14.387158  14.554157  -0.167000       No\n",
              "97            South Korea  11.801712  13.614458  -1.812746      Yes"
            ]
          },
          "execution_count": 35,
          "metadata": {},
          "output_type": "execute_result"
        }
      ],
      "source": [
        "# highest emissions per capita in 2019\n",
        "df6.sort_values(by=2019, ascending=False).iloc[:15]"
      ]
    },
    {
      "cell_type": "code",
      "execution_count": null,
      "metadata": {
        "colab": {
          "base_uri": "https://localhost:8080/",
          "height": 513
        },
        "id": "edH9b7ak_2l5",
        "outputId": "37289c46-1a4d-4d59-8c01-c117fd73f163"
      },
      "outputs": [
        {
          "data": {
            "image/png": "[encoded data removed]",
            "text/plain": [
              "<Figure size 720x576 with 1 Axes>"
            ]
          },
          "metadata": {
            "needs_background": "light"
          },
          "output_type": "display_data"
        }
      ],
      "source": [
        "x3 = df6.loc[df6['net_zero'] == 'Yes', 'change']\n",
        "x4 = df6.loc[df6['net_zero'] == 'No', 'change']\n",
        "fig, ax = plt.subplots(figsize=(10,8))\n",
        "ax.hist(x4, alpha=0.5, label='no target')\n",
        "ax.hist(x3, alpha=0.7, label='net-zero target')\n",
        "ax.set(xlabel='Change in relative CO2 emmission', ylabel='Number of countries', title='Change in consumption CO2 emission, 2019 vs 2005')\n",
        "ax.legend()\n",
        "# plt.savefig('zero_target_2005')\n",
        "plt.show()"
      ]
    },
    {
      "cell_type": "code",
      "execution_count": null,
      "metadata": {
        "id": "L0MTiQf97W2Q",
        "outputId": "99421509-c143-4f77-aaf0-5e363f68d436"
      },
      "outputs": [
        {
          "data": {
            "text/plain": [
              "0.9325988746746239"
            ]
          },
          "metadata": {},
          "output_type": "display_data"
        },
        {
          "data": {
            "text/plain": [
              "12.298012097462108"
            ]
          },
          "metadata": {},
          "output_type": "display_data"
        },
        {
          "data": {
            "text/plain": [
              "10.696081171178413"
            ]
          },
          "metadata": {},
          "output_type": "display_data"
        },
        {
          "data": {
            "text/plain": [
              "0.005658177028959649"
            ]
          },
          "metadata": {},
          "output_type": "display_data"
        }
      ],
      "source": [
        "x3 = df6.loc[df6['net_zero'] == 'Yes', 'change']\n",
        "x4 = df6.loc[df6['net_zero'] == 'No', 'change']\n",
        "display(np.std(x4)/np.std(x3))\n",
        "display(np.var(x3), np.var(x4))\n",
        "\n",
        "tstat, pval = ttest_ind(x3, x4)\n",
        "display(pval)"
      ]
    }
  ],
  "metadata": {
    "colab": {
      "collapsed_sections": [],
      "name": "co2_question2.ipynb",
      "provenance": [],
      "include_colab_link": true
    },
    "kernelspec": {
      "display_name": "Python 3 (ipykernel)",
      "language": "python",
      "name": "python3"
    },
    "language_info": {
      "codemirror_mode": {
        "name": "ipython",
        "version": 3
      },
      "file_extension": ".py",
      "mimetype": "text/x-python",
      "name": "python",
      "nbconvert_exporter": "python",
      "pygments_lexer": "ipython3",
      "version": "3.9.7"
    }
  },
  "nbformat": 4,
  "nbformat_minor": 0
}